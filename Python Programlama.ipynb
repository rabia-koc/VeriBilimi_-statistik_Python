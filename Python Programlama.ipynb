{
 "cells": [
  {
   "cell_type": "markdown",
   "metadata": {
    "id": "5dPsgW7SOS7Z"
   },
   "source": [
    "SAYILAR VE STRİNGLERE GİRİŞ"
   ]
  },
  {
   "cell_type": "code",
   "execution_count": 13,
   "metadata": {
    "colab": {
     "base_uri": "https://localhost:8080/",
     "height": 0
    },
    "id": "XS4KFZOo47cA",
    "outputId": "87772b1c-d2e2-4fc4-d349-c0e70232a937"
   },
   "outputs": [
    {
     "name": "stdout",
     "output_type": "stream",
     "text": [
      "<class 'int'>\n"
     ]
    }
   ],
   "source": [
    "print(type(9)) # nesnenin tipini söyler."
   ]
  },
  {
   "cell_type": "code",
   "execution_count": 14,
   "metadata": {
    "colab": {
     "base_uri": "https://localhost:8080/",
     "height": 0
    },
    "id": "1Gm1NDAnNlz6",
    "outputId": "bbf66d98-e4b9-46fa-a581-99457e3bd3ba"
   },
   "outputs": [
    {
     "data": {
      "text/plain": [
       "float"
      ]
     },
     "execution_count": 14,
     "metadata": {},
     "output_type": "execute_result"
    }
   ],
   "source": [
    "type(9.2)"
   ]
  },
  {
   "cell_type": "code",
   "execution_count": 15,
   "metadata": {
    "colab": {
     "base_uri": "https://localhost:8080/",
     "height": 0
    },
    "id": "LuZgUd2CNrz4",
    "outputId": "9a82dd8a-2e00-4741-ade0-4830f4bd4785"
   },
   "outputs": [
    {
     "data": {
      "text/plain": [
       "str"
      ]
     },
     "execution_count": 15,
     "metadata": {},
     "output_type": "execute_result"
    }
   ],
   "source": [
    "type(\"hello aıa era\")"
   ]
  },
  {
   "cell_type": "markdown",
   "metadata": {
    "id": "55Nz9XECOvmK"
   },
   "source": [
    "STRİNGLERE YAKINDAN GİRİŞ"
   ]
  },
  {
   "cell_type": "code",
   "execution_count": 16,
   "metadata": {
    "colab": {
     "base_uri": "https://localhost:8080/",
     "height": 0
    },
    "id": "YFzh1oozO2Lz",
    "outputId": "a382f2c3-6a3a-4718-ed46-4eec55cfcba3"
   },
   "outputs": [
    {
     "data": {
      "text/plain": [
       "str"
      ]
     },
     "execution_count": 16,
     "metadata": {},
     "output_type": "execute_result"
    }
   ],
   "source": [
    "type(\"123\") # tırnak koyarsak içindeki ne olursa olsun str anlar."
   ]
  },
  {
   "cell_type": "code",
   "execution_count": 17,
   "metadata": {
    "colab": {
     "base_uri": "https://localhost:8080/",
     "height": 35
    },
    "id": "4Wfemr4SPbqj",
    "outputId": "862b7c67-8abf-42f9-dea7-2ae27c71f402"
   },
   "outputs": [
    {
     "data": {
      "text/plain": [
       "'ab'"
      ]
     },
     "execution_count": 17,
     "metadata": {},
     "output_type": "execute_result"
    }
   ],
   "source": [
    "\"a\" + \"b\" # + ifadesi iki stringi yan yana koyma ifadesi taşıyor."
   ]
  },
  {
   "cell_type": "code",
   "execution_count": 18,
   "metadata": {
    "colab": {
     "base_uri": "https://localhost:8080/",
     "height": 35
    },
    "id": "nsING5rFPfXN",
    "outputId": "acdce3bc-998b-40bb-f245-9380b8b2297f"
   },
   "outputs": [
    {
     "data": {
      "text/plain": [
       "'a b'"
      ]
     },
     "execution_count": 18,
     "metadata": {},
     "output_type": "execute_result"
    }
   ],
   "source": [
    "\"a\" \" b\""
   ]
  },
  {
   "cell_type": "code",
   "execution_count": 19,
   "metadata": {
    "colab": {
     "base_uri": "https://localhost:8080/",
     "height": 35
    },
    "id": "ZOv-cpcrPypN",
    "outputId": "33e3cd8a-7065-40e8-baca-e76a8cf7842c"
   },
   "outputs": [
    {
     "data": {
      "text/plain": [
       "'a-b'"
      ]
     },
     "execution_count": 19,
     "metadata": {},
     "output_type": "execute_result"
    }
   ],
   "source": [
    "\"a\" + \"-b\""
   ]
  },
  {
   "cell_type": "code",
   "execution_count": 20,
   "metadata": {
    "id": "UpjKP0rHQFYe"
   },
   "outputs": [
    {
     "ename": "TypeError",
     "evalue": "unsupported operand type(s) for -: 'str' and 'str'",
     "output_type": "error",
     "traceback": [
      "\u001b[1;31m---------------------------------------------------------------------------\u001b[0m",
      "\u001b[1;31mTypeError\u001b[0m                                 Traceback (most recent call last)",
      "\u001b[1;32m<ipython-input-20-aef01a6b1404>\u001b[0m in \u001b[0;36m<module>\u001b[1;34m\u001b[0m\n\u001b[1;32m----> 1\u001b[1;33m \u001b[1;34m\"a\"\u001b[0m \u001b[1;33m-\u001b[0m \u001b[1;34m\"b\"\u001b[0m \u001b[1;31m# hata verir.\u001b[0m\u001b[1;33m\u001b[0m\u001b[1;33m\u001b[0m\u001b[0m\n\u001b[0m",
      "\u001b[1;31mTypeError\u001b[0m: unsupported operand type(s) for -: 'str' and 'str'"
     ]
    }
   ],
   "source": [
    "\"a\" - \"b\" # hata verir."
   ]
  },
  {
   "cell_type": "code",
   "execution_count": 21,
   "metadata": {
    "colab": {
     "base_uri": "https://localhost:8080/",
     "height": 35
    },
    "id": "zFXqIa7iQQj9",
    "outputId": "b1e79001-aeed-4359-bf0a-87d59c2e9009"
   },
   "outputs": [
    {
     "data": {
      "text/plain": [
       "'aaa'"
      ]
     },
     "execution_count": 21,
     "metadata": {},
     "output_type": "execute_result"
    }
   ],
   "source": [
    "\"a\" * 3"
   ]
  },
  {
   "cell_type": "markdown",
   "metadata": {
    "id": "GBxosWRVQXyq"
   },
   "source": [
    "STRİNG METHODLARI - len()"
   ]
  },
  {
   "cell_type": "code",
   "execution_count": 22,
   "metadata": {
    "id": "XBTOtBLOQhrV"
   },
   "outputs": [],
   "source": [
    "# methodlar veri yapıları veya belirli yapılar üzerine uygulanan çeşitli fonksiyonlardır."
   ]
  },
  {
   "cell_type": "code",
   "execution_count": 23,
   "metadata": {
    "id": "p2Fb_07wRR99"
   },
   "outputs": [
    {
     "data": {
      "text/plain": [
       "17"
      ]
     },
     "execution_count": 23,
     "metadata": {},
     "output_type": "execute_result"
    }
   ],
   "source": [
    "gel_yaz = \"gelecegi_yazanlar\" # atama işlemi\n",
    "len(gel_yaz)  # eleman sayısını verdi."
   ]
  },
  {
   "cell_type": "code",
   "execution_count": 24,
   "metadata": {
    "colab": {
     "base_uri": "https://localhost:8080/",
     "height": 0
    },
    "id": "r94jfzoWR9jf",
    "outputId": "7c5c8137-6a02-42f0-ab61-d7291171b444"
   },
   "outputs": [
    {
     "data": {
      "text/plain": [
       "90"
      ]
     },
     "execution_count": 24,
     "metadata": {},
     "output_type": "execute_result"
    }
   ],
   "source": [
    "a=9\n",
    "b=10\n",
    "a*b"
   ]
  },
  {
   "cell_type": "markdown",
   "metadata": {
    "id": "3ZBTc5Y-Sh6B"
   },
   "source": [
    "STRİNG METHODLARI - upper() & lower()"
   ]
  },
  {
   "cell_type": "code",
   "execution_count": 3,
   "metadata": {
    "colab": {
     "base_uri": "https://localhost:8080/",
     "height": 35
    },
    "id": "GXEoux9TSpEQ",
    "outputId": "c32cea01-2688-4bee-8c43-5c1e0e39a5f8"
   },
   "outputs": [
    {
     "data": {
      "text/plain": [
       "'GELECEGI_YAZANLAR'"
      ]
     },
     "execution_count": 3,
     "metadata": {},
     "output_type": "execute_result"
    }
   ],
   "source": [
    "gel_yaz = \"gelecegi_yazanlar\"\n",
    "gel_yaz.upper()"
   ]
  },
  {
   "cell_type": "code",
   "execution_count": 26,
   "metadata": {
    "colab": {
     "base_uri": "https://localhost:8080/",
     "height": 35
    },
    "id": "Cft4kaH8TbxU",
    "outputId": "53f35fea-2b09-4ae9-a329-705bde9150a3"
   },
   "outputs": [
    {
     "data": {
      "text/plain": [
       "'gelecegi_yazanlar'"
      ]
     },
     "execution_count": 26,
     "metadata": {},
     "output_type": "execute_result"
    }
   ],
   "source": [
    "gel_yaz.lower()"
   ]
  },
  {
   "cell_type": "code",
   "execution_count": 27,
   "metadata": {
    "colab": {
     "base_uri": "https://localhost:8080/",
     "height": 0
    },
    "id": "47XTfS0HT2jz",
    "outputId": "3bb03c87-753c-4aa4-d053-c32ea2016c8d"
   },
   "outputs": [
    {
     "data": {
      "text/plain": [
       "True"
      ]
     },
     "execution_count": 27,
     "metadata": {},
     "output_type": "execute_result"
    }
   ],
   "source": [
    "gel_yaz.islower() # hepsi küçük mü?"
   ]
  },
  {
   "cell_type": "code",
   "execution_count": 28,
   "metadata": {
    "colab": {
     "base_uri": "https://localhost:8080/",
     "height": 0
    },
    "id": "2F8f0tF_T6gN",
    "outputId": "8937dd04-6fca-46c6-ef11-ee7f84254b4d"
   },
   "outputs": [
    {
     "data": {
      "text/plain": [
       "False"
      ]
     },
     "execution_count": 28,
     "metadata": {},
     "output_type": "execute_result"
    }
   ],
   "source": [
    "B=gel_yaz.upper()\n",
    "B.islower()   #bu ifade küçük mü sorusunu sorar."
   ]
  },
  {
   "cell_type": "code",
   "execution_count": 29,
   "metadata": {
    "colab": {
     "base_uri": "https://localhost:8080/",
     "height": 0
    },
    "id": "Rntg9SpzUcma",
    "outputId": "46fcab2e-7b17-4a5c-e7b4-d43bc763c117"
   },
   "outputs": [
    {
     "data": {
      "text/plain": [
       "True"
      ]
     },
     "execution_count": 29,
     "metadata": {},
     "output_type": "execute_result"
    }
   ],
   "source": [
    "B.isupper()"
   ]
  },
  {
   "cell_type": "markdown",
   "metadata": {
    "id": "JZ0y1OIIUjas"
   },
   "source": [
    "STRİNG METHODLARI - replace()"
   ]
  },
  {
   "cell_type": "code",
   "execution_count": 30,
   "metadata": {
    "id": "4jHACYf4Uqhs"
   },
   "outputs": [],
   "source": [
    "# replace metodu elimizdeki stringlerin içerisindeki karakterle ilgili değişiklik yapar."
   ]
  },
  {
   "cell_type": "code",
   "execution_count": 4,
   "metadata": {
    "id": "sjv-z7H4U5aN"
   },
   "outputs": [],
   "source": [
    "gel_yaz = \"gelecegi_yazanlar\""
   ]
  },
  {
   "cell_type": "code",
   "execution_count": 5,
   "metadata": {
    "colab": {
     "base_uri": "https://localhost:8080/",
     "height": 35
    },
    "id": "OdnTqJtIVDF3",
    "outputId": "9096c194-fbe5-4324-f6cd-2811c8a1275f"
   },
   "outputs": [
    {
     "data": {
      "text/plain": [
       "'galacagi_yazanlar'"
      ]
     },
     "execution_count": 5,
     "metadata": {},
     "output_type": "execute_result"
    }
   ],
   "source": [
    "gel_yaz.replace(\"e\",\"a\") # e leri a yaptı."
   ]
  },
  {
   "cell_type": "code",
   "execution_count": 6,
   "metadata": {
    "colab": {
     "base_uri": "https://localhost:8080/",
     "height": 35
    },
    "id": "sFGquEqxVWLv",
    "outputId": "479b7311-82ca-4f0d-d858-b0066f473b24"
   },
   "outputs": [
    {
     "data": {
      "text/plain": [
       "'gelecegi_yazanlar'"
      ]
     },
     "execution_count": 6,
     "metadata": {},
     "output_type": "execute_result"
    }
   ],
   "source": [
    "gel_yaz # kalıcı değişiklik meydana getirmedi. çünkü atama işlemi yapmadık."
   ]
  },
  {
   "cell_type": "markdown",
   "metadata": {
    "id": "eU2Hza9SV8OO"
   },
   "source": [
    "STRİNG METHODLARI - strip()"
   ]
  },
  {
   "cell_type": "code",
   "execution_count": 7,
   "metadata": {
    "id": "0wfUnB9NWB70"
   },
   "outputs": [],
   "source": [
    "# istenmeyen karakterleri kırpmak için kullanılır."
   ]
  },
  {
   "cell_type": "code",
   "execution_count": 8,
   "metadata": {
    "id": "Emh4zeDiWK42"
   },
   "outputs": [],
   "source": [
    "gel_yaz = \" gelecegi_yazanlar \""
   ]
  },
  {
   "cell_type": "code",
   "execution_count": 9,
   "metadata": {
    "colab": {
     "base_uri": "https://localhost:8080/",
     "height": 35
    },
    "id": "ZxtNb0kCWS1e",
    "outputId": "fef6b03a-a00f-4ed1-c377-7b6050b21562"
   },
   "outputs": [
    {
     "data": {
      "text/plain": [
       "'gelecegi_yazanlar'"
      ]
     },
     "execution_count": 9,
     "metadata": {},
     "output_type": "execute_result"
    }
   ],
   "source": [
    "gel_yaz.strip() # etrafındaki boşlukları sildi."
   ]
  },
  {
   "cell_type": "code",
   "execution_count": 10,
   "metadata": {
    "colab": {
     "base_uri": "https://localhost:8080/",
     "height": 35
    },
    "id": "IeeUY2VcWogH",
    "outputId": "43ef8565-babc-4cf2-8cbc-f69c53691782"
   },
   "outputs": [
    {
     "data": {
      "text/plain": [
       "'gelecegi_yazanlar'"
      ]
     },
     "execution_count": 10,
     "metadata": {},
     "output_type": "execute_result"
    }
   ],
   "source": [
    "gel_yaz = \"*gelecegi_yazanlar*\"\n",
    "gel_yaz.strip(\"*\")"
   ]
  },
  {
   "cell_type": "markdown",
   "metadata": {
    "id": "b60FzE8dXAMp"
   },
   "source": [
    "METHODLARA GENEL BAKIŞ"
   ]
  },
  {
   "cell_type": "code",
   "execution_count": 11,
   "metadata": {
    "colab": {
     "base_uri": "https://localhost:8080/",
     "height": 0
    },
    "id": "3ElXVoRnXDbd",
    "outputId": "0a9c6ede-3cd0-4867-ebd1-fb559e76ad56"
   },
   "outputs": [
    {
     "data": {
      "text/plain": [
       "['__add__',\n",
       " '__class__',\n",
       " '__contains__',\n",
       " '__delattr__',\n",
       " '__dir__',\n",
       " '__doc__',\n",
       " '__eq__',\n",
       " '__format__',\n",
       " '__ge__',\n",
       " '__getattribute__',\n",
       " '__getitem__',\n",
       " '__getnewargs__',\n",
       " '__gt__',\n",
       " '__hash__',\n",
       " '__init__',\n",
       " '__init_subclass__',\n",
       " '__iter__',\n",
       " '__le__',\n",
       " '__len__',\n",
       " '__lt__',\n",
       " '__mod__',\n",
       " '__mul__',\n",
       " '__ne__',\n",
       " '__new__',\n",
       " '__reduce__',\n",
       " '__reduce_ex__',\n",
       " '__repr__',\n",
       " '__rmod__',\n",
       " '__rmul__',\n",
       " '__setattr__',\n",
       " '__sizeof__',\n",
       " '__str__',\n",
       " '__subclasshook__',\n",
       " 'capitalize',\n",
       " 'casefold',\n",
       " 'center',\n",
       " 'count',\n",
       " 'encode',\n",
       " 'endswith',\n",
       " 'expandtabs',\n",
       " 'find',\n",
       " 'format',\n",
       " 'format_map',\n",
       " 'index',\n",
       " 'isalnum',\n",
       " 'isalpha',\n",
       " 'isascii',\n",
       " 'isdecimal',\n",
       " 'isdigit',\n",
       " 'isidentifier',\n",
       " 'islower',\n",
       " 'isnumeric',\n",
       " 'isprintable',\n",
       " 'isspace',\n",
       " 'istitle',\n",
       " 'isupper',\n",
       " 'join',\n",
       " 'ljust',\n",
       " 'lower',\n",
       " 'lstrip',\n",
       " 'maketrans',\n",
       " 'partition',\n",
       " 'replace',\n",
       " 'rfind',\n",
       " 'rindex',\n",
       " 'rjust',\n",
       " 'rpartition',\n",
       " 'rsplit',\n",
       " 'rstrip',\n",
       " 'split',\n",
       " 'splitlines',\n",
       " 'startswith',\n",
       " 'strip',\n",
       " 'swapcase',\n",
       " 'title',\n",
       " 'translate',\n",
       " 'upper',\n",
       " 'zfill']"
      ]
     },
     "execution_count": 11,
     "metadata": {},
     "output_type": "execute_result"
    }
   ],
   "source": [
    "dir(gel_yaz) # elimizdeki veri tipine uygulanacak methodları gösterir."
   ]
  },
  {
   "cell_type": "code",
   "execution_count": 12,
   "metadata": {
    "colab": {
     "base_uri": "https://localhost:8080/",
     "height": 35
    },
    "id": "dSwemvjSXiqy",
    "outputId": "eadd5428-07ec-4e77-a7ec-66e0d67f239b"
   },
   "outputs": [
    {
     "data": {
      "text/plain": [
       "'Gelecegi_yazanlar'"
      ]
     },
     "execution_count": 12,
     "metadata": {},
     "output_type": "execute_result"
    }
   ],
   "source": [
    "gel_yaz = \"gelecegi_yazanlar\"\n",
    "gel_yaz.capitalize()  #sadece başındaki ifade büyüdü."
   ]
  },
  {
   "cell_type": "code",
   "execution_count": 13,
   "metadata": {
    "colab": {
     "base_uri": "https://localhost:8080/",
     "height": 35
    },
    "id": "YtRj7_YnYoUB",
    "outputId": "51db9d5b-9711-46ac-98b9-77bf860b25da"
   },
   "outputs": [
    {
     "data": {
      "text/plain": [
       "'Gelecegi_Yazanlar'"
      ]
     },
     "execution_count": 13,
     "metadata": {},
     "output_type": "execute_result"
    }
   ],
   "source": [
    "gel_yaz.title() # her bir kelimenin ilk harfi büyümüş oldu."
   ]
  },
  {
   "cell_type": "markdown",
   "metadata": {
    "id": "brPITX_xZFKv"
   },
   "source": [
    "SUBSTRINGLER"
   ]
  },
  {
   "cell_type": "code",
   "execution_count": 41,
   "metadata": {
    "id": "56n3aYKTZKua"
   },
   "outputs": [],
   "source": [
    "# elimizdeki strring ifadelerin alt kümesini almak alt bileşenlerini almak"
   ]
  },
  {
   "cell_type": "code",
   "execution_count": 14,
   "metadata": {
    "colab": {
     "base_uri": "https://localhost:8080/",
     "height": 35
    },
    "id": "b1DPvDA8ZYIU",
    "outputId": "45857427-9c69-404f-feaa-b01fd179bf02"
   },
   "outputs": [
    {
     "data": {
      "text/plain": [
       "'g'"
      ]
     },
     "execution_count": 14,
     "metadata": {},
     "output_type": "execute_result"
    }
   ],
   "source": [
    "gel_yaz = \"gelecegi_yazanlar\"\n",
    "gel_yaz[0]   # sıfırıncı indeksi verir."
   ]
  },
  {
   "cell_type": "code",
   "execution_count": 15,
   "metadata": {
    "colab": {
     "base_uri": "https://localhost:8080/",
     "height": 35
    },
    "id": "fgyP7zP1aeJ3",
    "outputId": "2615afc7-7610-46a0-9b9f-2e58d5080cd4"
   },
   "outputs": [
    {
     "data": {
      "text/plain": [
       "'gel'"
      ]
     },
     "execution_count": 15,
     "metadata": {},
     "output_type": "execute_result"
    }
   ],
   "source": [
    "gel_yaz[0:3]  # 3 hariç"
   ]
  },
  {
   "cell_type": "code",
   "execution_count": 16,
   "metadata": {
    "colab": {
     "base_uri": "https://localhost:8080/",
     "height": 35
    },
    "id": "jO4dw-TMaxEo",
    "outputId": "510a4b39-6c7f-4569-c9c4-7fd25df8c081"
   },
   "outputs": [
    {
     "data": {
      "text/plain": [
       "'eceg'"
      ]
     },
     "execution_count": 16,
     "metadata": {},
     "output_type": "execute_result"
    }
   ],
   "source": [
    "gel_yaz[3:7]"
   ]
  },
  {
   "cell_type": "markdown",
   "metadata": {
    "id": "5t4SV7_Ia8X5"
   },
   "source": [
    "DEĞİŞKENLER(VARİABLES)"
   ]
  },
  {
   "cell_type": "code",
   "execution_count": 17,
   "metadata": {
    "colab": {
     "base_uri": "https://localhost:8080/",
     "height": 0
    },
    "id": "FdLkdkAqbBbe",
    "outputId": "0ba4826f-7e0c-4cd0-b2d5-43a2a25a57e0"
   },
   "outputs": [
    {
     "data": {
      "text/plain": [
       "0.5"
      ]
     },
     "execution_count": 17,
     "metadata": {},
     "output_type": "execute_result"
    }
   ],
   "source": [
    "a = 9\n",
    "b = \"ali_uzaya_git\"\n",
    "c = a*2\n",
    "\n",
    "a/c"
   ]
  },
  {
   "cell_type": "code",
   "execution_count": 18,
   "metadata": {
    "colab": {
     "base_uri": "https://localhost:8080/",
     "height": 0
    },
    "id": "eWa8x-LhcQU0",
    "outputId": "38e5a5bc-0f77-4f20-9076-cf0c10cfe50b"
   },
   "outputs": [
    {
     "data": {
      "text/plain": [
       "162"
      ]
     },
     "execution_count": 18,
     "metadata": {},
     "output_type": "execute_result"
    }
   ],
   "source": [
    "a*c"
   ]
  },
  {
   "cell_type": "code",
   "execution_count": 19,
   "metadata": {
    "colab": {
     "base_uri": "https://localhost:8080/",
     "height": 0
    },
    "id": "SEO8_3CKclgh",
    "outputId": "b6ec21d0-0c74-4ed3-be51-ac1a03cde82c"
   },
   "outputs": [
    {
     "data": {
      "text/plain": [
       "45"
      ]
     },
     "execution_count": 19,
     "metadata": {},
     "output_type": "execute_result"
    }
   ],
   "source": [
    "a*5"
   ]
  },
  {
   "cell_type": "code",
   "execution_count": 20,
   "metadata": {
    "colab": {
     "base_uri": "https://localhost:8080/",
     "height": 0
    },
    "id": "XqxNx4r9coJS",
    "outputId": "50ed5e36-c7ad-4844-8503-37963dd759eb"
   },
   "outputs": [
    {
     "data": {
      "text/plain": [
       "float"
      ]
     },
     "execution_count": 20,
     "metadata": {},
     "output_type": "execute_result"
    }
   ],
   "source": [
    "type(100.2)"
   ]
  },
  {
   "cell_type": "code",
   "execution_count": 21,
   "metadata": {
    "colab": {
     "base_uri": "https://localhost:8080/",
     "height": 0
    },
    "id": "MlJ2elQHctGQ",
    "outputId": "b7f7210a-3034-4f55-f857-1ad1f915cef4"
   },
   "outputs": [
    {
     "data": {
      "text/plain": [
       "complex"
      ]
     },
     "execution_count": 21,
     "metadata": {},
     "output_type": "execute_result"
    }
   ],
   "source": [
    "type(1+2j)"
   ]
  },
  {
   "cell_type": "markdown",
   "metadata": {
    "id": "HvYzYHwEdX3i"
   },
   "source": [
    "TYPE_DÖNÜŞÜMLERİ"
   ]
  },
  {
   "cell_type": "code",
   "execution_count": 23,
   "metadata": {
    "colab": {
     "base_uri": "https://localhost:8080/",
     "height": 0
    },
    "id": "eV2V3HY-dXGo",
    "outputId": "c9482e28-afa3-424e-9401-a80f0f543630"
   },
   "outputs": [
    {
     "name": "stdin",
     "output_type": "stream",
     "text": [
      " 23\n",
      " 45\n"
     ]
    }
   ],
   "source": [
    "toplama_bir=input() # kullanıcıdan bilgi almak\n",
    "toplama_iki=input()"
   ]
  },
  {
   "cell_type": "code",
   "execution_count": 24,
   "metadata": {
    "colab": {
     "base_uri": "https://localhost:8080/",
     "height": 0
    },
    "id": "bFbPx9hwdV3z",
    "outputId": "07c5338f-659c-4197-c62a-b82f539c7f6f"
   },
   "outputs": [
    {
     "data": {
      "text/plain": [
       "str"
      ]
     },
     "execution_count": 24,
     "metadata": {},
     "output_type": "execute_result"
    }
   ],
   "source": [
    "type(toplama_bir)"
   ]
  },
  {
   "cell_type": "code",
   "execution_count": 25,
   "metadata": {
    "colab": {
     "base_uri": "https://localhost:8080/",
     "height": 35
    },
    "id": "4eXBqFkBea4z",
    "outputId": "587b000a-de37-41b4-e956-c701ec60ec62"
   },
   "outputs": [
    {
     "data": {
      "text/plain": [
       "'2345'"
      ]
     },
     "execution_count": 25,
     "metadata": {},
     "output_type": "execute_result"
    }
   ],
   "source": [
    "toplama_bir + toplama_iki"
   ]
  },
  {
   "cell_type": "code",
   "execution_count": 26,
   "metadata": {
    "colab": {
     "base_uri": "https://localhost:8080/",
     "height": 0
    },
    "id": "zFTEdVbnerHv",
    "outputId": "3ad6aadb-cc39-4c98-87ff-70c11824ff2d"
   },
   "outputs": [
    {
     "data": {
      "text/plain": [
       "68"
      ]
     },
     "execution_count": 26,
     "metadata": {},
     "output_type": "execute_result"
    }
   ],
   "source": [
    "int(toplama_bir) +int(toplama_iki)"
   ]
  },
  {
   "cell_type": "code",
   "execution_count": 27,
   "metadata": {
    "colab": {
     "base_uri": "https://localhost:8080/",
     "height": 0
    },
    "id": "LfCgUVXse49K",
    "outputId": "de6ce30f-54e4-4a7f-d7f0-454e84472d3a"
   },
   "outputs": [
    {
     "data": {
      "text/plain": [
       "11"
      ]
     },
     "execution_count": 27,
     "metadata": {},
     "output_type": "execute_result"
    }
   ],
   "source": [
    "int(11.0)"
   ]
  },
  {
   "cell_type": "code",
   "execution_count": 28,
   "metadata": {
    "colab": {
     "base_uri": "https://localhost:8080/",
     "height": 0
    },
    "id": "Aq9tG5T7fBi_",
    "outputId": "4a4ea4a2-9b71-4c20-f573-9f20b2fe4663"
   },
   "outputs": [
    {
     "data": {
      "text/plain": [
       "12.0"
      ]
     },
     "execution_count": 28,
     "metadata": {},
     "output_type": "execute_result"
    }
   ],
   "source": [
    "float(12)"
   ]
  },
  {
   "cell_type": "code",
   "execution_count": 29,
   "metadata": {
    "colab": {
     "base_uri": "https://localhost:8080/",
     "height": 0
    },
    "id": "r93R5tmVfERU",
    "outputId": "592d6d96-4e8b-4b6e-9d6e-b499c55f77b8"
   },
   "outputs": [
    {
     "data": {
      "text/plain": [
       "str"
      ]
     },
     "execution_count": 29,
     "metadata": {},
     "output_type": "execute_result"
    }
   ],
   "source": [
    "type(str(12))"
   ]
  },
  {
   "cell_type": "markdown",
   "metadata": {
    "id": "UZGYCznCfbkE"
   },
   "source": [
    "KOD ÇIKTISI EKRANA YAZDIRMAK: print"
   ]
  },
  {
   "cell_type": "code",
   "execution_count": 30,
   "metadata": {
    "colab": {
     "base_uri": "https://localhost:8080/",
     "height": 0
    },
    "id": "QsudNq5Ofijm",
    "outputId": "f967724f-b085-4e9b-c4b0-01dc317ef205"
   },
   "outputs": [
    {
     "name": "stdout",
     "output_type": "stream",
     "text": [
      "Hello RABİŞŞ\n"
     ]
    }
   ],
   "source": [
    "print(\"Hello RABİŞŞ\")"
   ]
  },
  {
   "cell_type": "code",
   "execution_count": 31,
   "metadata": {
    "colab": {
     "base_uri": "https://localhost:8080/",
     "height": 0
    },
    "id": "rBKAr1SkfrXW",
    "outputId": "05e82cf7-d08f-46c0-9571-c38ecfdaf12e"
   },
   "outputs": [
    {
     "name": "stdout",
     "output_type": "stream",
     "text": [
      "geleceği yazanlar\n"
     ]
    }
   ],
   "source": [
    "print(\"geleceği\", \"yazanlar\")"
   ]
  },
  {
   "cell_type": "code",
   "execution_count": 32,
   "metadata": {
    "colab": {
     "base_uri": "https://localhost:8080/",
     "height": 0
    },
    "id": "AXKZvVumf1YR",
    "outputId": "85d1f933-c10d-49ce-a4c0-540a1ccdb16a"
   },
   "outputs": [
    {
     "name": "stdout",
     "output_type": "stream",
     "text": [
      "geleceği_yazanlar\n"
     ]
    }
   ],
   "source": [
    "print(\"geleceği\", \"yazanlar\", sep= \"_\") # sep bir argüman"
   ]
  },
  {
   "cell_type": "code",
   "execution_count": 33,
   "metadata": {
    "id": "dl-D3Wc6gH_8"
   },
   "outputs": [],
   "source": [
    "# fonksiyonların genel amaçlarını biçimlendirmek için kullanılan alt görev belirticileri argüman denir."
   ]
  },
  {
   "cell_type": "code",
   "execution_count": 34,
   "metadata": {
    "colab": {
     "base_uri": "https://localhost:8080/",
     "height": 0
    },
    "id": "na9Hx1mQi7ed",
    "outputId": "7b304816-379a-426c-c555-918bf29e0f2a"
   },
   "outputs": [
    {
     "name": "stdout",
     "output_type": "stream",
     "text": [
      "16\n"
     ]
    }
   ],
   "source": [
    "degisken = 4\n",
    "print(degisken*degisken)"
   ]
  },
  {
   "cell_type": "code",
   "execution_count": 35,
   "metadata": {
    "colab": {
     "base_uri": "https://localhost:8080/",
     "height": 35
    },
    "id": "DFxytdamkrFq",
    "outputId": "0f5088fa-cb94-4c0e-c33e-3fbff046e7d0"
   },
   "outputs": [
    {
     "data": {
      "text/plain": [
       "'012340'"
      ]
     },
     "execution_count": 35,
     "metadata": {},
     "output_type": "execute_result"
    }
   ],
   "source": [
    "ifade = \"1012340\"\n",
    "ifade = ifade + \"1\"\n",
    "ifade.strip(\"1\")"
   ]
  },
  {
   "cell_type": "markdown",
   "metadata": {
    "id": "H1_kSnjfu7-p"
   },
   "source": [
    "VERİ YAPILARI\n",
    "*LİSTELER*"
   ]
  },
  {
   "cell_type": "code",
   "execution_count": 37,
   "metadata": {
    "id": "d5NqA8xvu7jp"
   },
   "outputs": [],
   "source": [
    "notlar = [90,80,70,50]"
   ]
  },
  {
   "cell_type": "code",
   "execution_count": 38,
   "metadata": {
    "colab": {
     "base_uri": "https://localhost:8080/",
     "height": 0
    },
    "id": "gttiIIEsvo07",
    "outputId": "3d343ede-17ef-4180-aadd-cf92d568caaa"
   },
   "outputs": [
    {
     "data": {
      "text/plain": [
       "list"
      ]
     },
     "execution_count": 38,
     "metadata": {},
     "output_type": "execute_result"
    }
   ],
   "source": [
    "type(notlar)"
   ]
  },
  {
   "cell_type": "code",
   "execution_count": 39,
   "metadata": {
    "colab": {
     "base_uri": "https://localhost:8080/",
     "height": 0
    },
    "id": "Zl0vE_nLv3jo",
    "outputId": "b06137bd-d617-4b7b-faea-26a6b1193628"
   },
   "outputs": [
    {
     "data": {
      "text/plain": [
       "4"
      ]
     },
     "execution_count": 39,
     "metadata": {},
     "output_type": "execute_result"
    }
   ],
   "source": [
    "liste = [\"a\",19.3,90]\n",
    "list_genis = [\"a\",19.3,90, notlar]\n",
    "\n",
    "len(list_genis)"
   ]
  },
  {
   "cell_type": "code",
   "execution_count": 40,
   "metadata": {
    "colab": {
     "base_uri": "https://localhost:8080/",
     "height": 0
    },
    "id": "tEeHIdcFxNLb",
    "outputId": "c1cb4580-935b-45e3-e8a8-b9f2bca6d0c6"
   },
   "outputs": [
    {
     "data": {
      "text/plain": [
       "float"
      ]
     },
     "execution_count": 40,
     "metadata": {},
     "output_type": "execute_result"
    }
   ],
   "source": [
    "type(list_genis[1])"
   ]
  },
  {
   "cell_type": "code",
   "execution_count": 41,
   "metadata": {
    "colab": {
     "base_uri": "https://localhost:8080/",
     "height": 0
    },
    "id": "yYz3S5Q4xhxq",
    "outputId": "f7c48297-ec5d-4430-8ebf-adda01d3adb6"
   },
   "outputs": [
    {
     "data": {
      "text/plain": [
       "[90, 80, 70, 50]"
      ]
     },
     "execution_count": 41,
     "metadata": {},
     "output_type": "execute_result"
    }
   ],
   "source": [
    "list_genis[3]"
   ]
  },
  {
   "cell_type": "code",
   "execution_count": 42,
   "metadata": {
    "id": "V0V3bKWBxtNF"
   },
   "outputs": [
    {
     "data": {
      "text/plain": [
       "[['a', 19.3, 90], ['a', 19.3, 90, [90, 80, 70, 50]]]"
      ]
     },
     "execution_count": 42,
     "metadata": {},
     "output_type": "execute_result"
    }
   ],
   "source": [
    "tum_liste = [liste,list_genis]\n",
    "tum_liste"
   ]
  },
  {
   "cell_type": "code",
   "execution_count": 43,
   "metadata": {
    "id": "iTY8jcWLyHPp"
   },
   "outputs": [],
   "source": [
    "# del tum_liste böyle silinir."
   ]
  },
  {
   "cell_type": "markdown",
   "metadata": {
    "id": "SbnOE474yRav"
   },
   "source": [
    "LİSTE ELEMANLARINA ERİŞMEK"
   ]
  },
  {
   "cell_type": "code",
   "execution_count": 44,
   "metadata": {
    "colab": {
     "base_uri": "https://localhost:8080/",
     "height": 0
    },
    "id": "qdAXMkVtyWkg",
    "outputId": "4a52cccd-1ca8-4c67-9d0c-67178fba6da2"
   },
   "outputs": [
    {
     "data": {
      "text/plain": [
       "20"
      ]
     },
     "execution_count": 44,
     "metadata": {},
     "output_type": "execute_result"
    }
   ],
   "source": [
    "liiste = [10,20,30,40,50]\n",
    "liiste[1]"
   ]
  },
  {
   "cell_type": "code",
   "execution_count": 45,
   "metadata": {
    "colab": {
     "base_uri": "https://localhost:8080/",
     "height": 0
    },
    "id": "LPI_msHnyiAy",
    "outputId": "b79dd3c0-2713-4202-fd55-8972a94dee33"
   },
   "outputs": [
    {
     "data": {
      "text/plain": [
       "[10, 20]"
      ]
     },
     "execution_count": 45,
     "metadata": {},
     "output_type": "execute_result"
    }
   ],
   "source": [
    "liiste[0:2]"
   ]
  },
  {
   "cell_type": "code",
   "execution_count": 46,
   "metadata": {
    "colab": {
     "base_uri": "https://localhost:8080/",
     "height": 0
    },
    "id": "SnIqIiymzMES",
    "outputId": "97910774-b730-4111-b2d7-a9492d0d1d27"
   },
   "outputs": [
    {
     "data": {
      "text/plain": [
       "[10, 20]"
      ]
     },
     "execution_count": 46,
     "metadata": {},
     "output_type": "execute_result"
    }
   ],
   "source": [
    "liiste[:2]"
   ]
  },
  {
   "cell_type": "code",
   "execution_count": 47,
   "metadata": {
    "colab": {
     "base_uri": "https://localhost:8080/",
     "height": 0
    },
    "id": "aUi5MIhMzQPn",
    "outputId": "aa0d00e8-623c-4db8-d5ed-edb15afe1cab"
   },
   "outputs": [
    {
     "data": {
      "text/plain": [
       "[30, 40, 50]"
      ]
     },
     "execution_count": 47,
     "metadata": {},
     "output_type": "execute_result"
    }
   ],
   "source": [
    "liiste[2:] # 2 dahil sona kadar al."
   ]
  },
  {
   "cell_type": "code",
   "execution_count": 48,
   "metadata": {
    "id": "vAwr1RdMzZd1"
   },
   "outputs": [],
   "source": [
    "yeni_liste = [\"a\",10,[20,30,40,50]]"
   ]
  },
  {
   "cell_type": "code",
   "execution_count": 49,
   "metadata": {
    "colab": {
     "base_uri": "https://localhost:8080/",
     "height": 0
    },
    "id": "iB4OJh8NzpJT",
    "outputId": "6e38db10-2622-47dd-fd92-0ddf98d93a63"
   },
   "outputs": [
    {
     "data": {
      "text/plain": [
       "['a', 10, [20, 30, 40, 50]]"
      ]
     },
     "execution_count": 49,
     "metadata": {},
     "output_type": "execute_result"
    }
   ],
   "source": [
    "yeni_liste"
   ]
  },
  {
   "cell_type": "code",
   "execution_count": 50,
   "metadata": {
    "colab": {
     "base_uri": "https://localhost:8080/",
     "height": 0
    },
    "id": "_9YbQNM7zryG",
    "outputId": "fef6c369-83fe-4fa3-fce6-266a7e12ca42"
   },
   "outputs": [
    {
     "data": {
      "text/plain": [
       "30"
      ]
     },
     "execution_count": 50,
     "metadata": {},
     "output_type": "execute_result"
    }
   ],
   "source": [
    "yeni_liste[2][1]"
   ]
  },
  {
   "cell_type": "markdown",
   "metadata": {
    "id": "pu6gm_Lw0DT3"
   },
   "source": [
    "**LİSTELER**- ELEMAN DEĞİŞTİRME EKLEME SİLME"
   ]
  },
  {
   "cell_type": "code",
   "execution_count": 51,
   "metadata": {
    "id": "0oaiNeWvz3F2"
   },
   "outputs": [],
   "source": [
    "liste = [\"ali\",\"veli\",\"berkcan\",\"ayşe\"]"
   ]
  },
  {
   "cell_type": "code",
   "execution_count": 52,
   "metadata": {
    "colab": {
     "base_uri": "https://localhost:8080/",
     "height": 0
    },
    "id": "TPx6dJIu0Was",
    "outputId": "e275caae-9757-43d5-8326-1b1cc1f4f222"
   },
   "outputs": [
    {
     "data": {
      "text/plain": [
       "['ali', 'veli', 'berkcan', 'ayşe']"
      ]
     },
     "execution_count": 52,
     "metadata": {},
     "output_type": "execute_result"
    }
   ],
   "source": [
    "liste"
   ]
  },
  {
   "cell_type": "code",
   "execution_count": 53,
   "metadata": {
    "id": "tKmi8K680ZsD"
   },
   "outputs": [],
   "source": [
    "liste[1] = \"velinin_babası\""
   ]
  },
  {
   "cell_type": "code",
   "execution_count": 54,
   "metadata": {
    "colab": {
     "base_uri": "https://localhost:8080/",
     "height": 0
    },
    "id": "GjBw3ICE0ktW",
    "outputId": "5a6a2e9f-f9f1-48af-b74f-5c11801aa06a"
   },
   "outputs": [
    {
     "data": {
      "text/plain": [
       "['ali', 'velinin_babası', 'berkcan', 'ayşe']"
      ]
     },
     "execution_count": 54,
     "metadata": {},
     "output_type": "execute_result"
    }
   ],
   "source": [
    "liste"
   ]
  },
  {
   "cell_type": "code",
   "execution_count": 55,
   "metadata": {
    "id": "0fT0eLsd1AOy"
   },
   "outputs": [],
   "source": [
    "liste[1] = \"veli\""
   ]
  },
  {
   "cell_type": "code",
   "execution_count": 56,
   "metadata": {
    "id": "OrtI167800ha"
   },
   "outputs": [],
   "source": [
    "liste[0:3] = \"alinin_babası\", \"velinin_babası\",\"berkcanın babası\""
   ]
  },
  {
   "cell_type": "code",
   "execution_count": 57,
   "metadata": {
    "colab": {
     "base_uri": "https://localhost:8080/",
     "height": 0
    },
    "id": "MYzdCgZf1VuM",
    "outputId": "bb7b4523-ec80-48dd-bcf0-3ffa0e739cc0"
   },
   "outputs": [
    {
     "data": {
      "text/plain": [
       "['alinin_babası', 'velinin_babası', 'berkcanın babası', 'ayşe']"
      ]
     },
     "execution_count": 57,
     "metadata": {},
     "output_type": "execute_result"
    }
   ],
   "source": [
    "liste"
   ]
  },
  {
   "cell_type": "code",
   "execution_count": 58,
   "metadata": {
    "id": "6xNtQ3YU1Zsf"
   },
   "outputs": [],
   "source": [
    "liste = [\"ali\",\"veli\",\"berkcan\",\"ayşe\"]"
   ]
  },
  {
   "cell_type": "code",
   "execution_count": 59,
   "metadata": {
    "colab": {
     "base_uri": "https://localhost:8080/",
     "height": 0
    },
    "id": "rBPP2R4F1gbB",
    "outputId": "dd639812-76b6-497c-ce09-c3766a496ccd"
   },
   "outputs": [
    {
     "data": {
      "text/plain": [
       "['ali', 'veli', 'berkcan', 'ayşe']"
      ]
     },
     "execution_count": 59,
     "metadata": {},
     "output_type": "execute_result"
    }
   ],
   "source": [
    "liste"
   ]
  },
  {
   "cell_type": "code",
   "execution_count": 60,
   "metadata": {
    "id": "dQ7Ubftx1iVU"
   },
   "outputs": [],
   "source": [
    "liste = liste + [\"kemal\"]"
   ]
  },
  {
   "cell_type": "code",
   "execution_count": 61,
   "metadata": {
    "colab": {
     "base_uri": "https://localhost:8080/",
     "height": 0
    },
    "id": "hBTMjOMD1nFd",
    "outputId": "87b9f385-48f0-4367-c484-3d28c15a9bb6"
   },
   "outputs": [
    {
     "data": {
      "text/plain": [
       "['ali', 'veli', 'berkcan', 'ayşe', 'kemal']"
      ]
     },
     "execution_count": 61,
     "metadata": {},
     "output_type": "execute_result"
    }
   ],
   "source": [
    "liste"
   ]
  },
  {
   "cell_type": "code",
   "execution_count": 62,
   "metadata": {
    "id": "C7CNwvlZ1waq"
   },
   "outputs": [],
   "source": [
    "del liste[2]"
   ]
  },
  {
   "cell_type": "code",
   "execution_count": 63,
   "metadata": {
    "colab": {
     "base_uri": "https://localhost:8080/",
     "height": 0
    },
    "id": "wJd757bQ13IZ",
    "outputId": "177d5903-f19d-43b7-8243-e8375c64bc66"
   },
   "outputs": [
    {
     "data": {
      "text/plain": [
       "['ali', 'veli', 'ayşe', 'kemal']"
      ]
     },
     "execution_count": 63,
     "metadata": {},
     "output_type": "execute_result"
    }
   ],
   "source": [
    "liste"
   ]
  },
  {
   "cell_type": "markdown",
   "metadata": {
    "id": "Xydul1Nv2IkF"
   },
   "source": [
    "LİSTE METHODLARI"
   ]
  },
  {
   "cell_type": "code",
   "execution_count": 65,
   "metadata": {
    "id": "acIe3oFA2L5N"
   },
   "outputs": [],
   "source": [
    "liste = [\"ali\",\"veli\",\"isik\"]"
   ]
  },
  {
   "cell_type": "code",
   "execution_count": 66,
   "metadata": {
    "colab": {
     "base_uri": "https://localhost:8080/",
     "height": 0
    },
    "id": "uAv2cJn42V0Q",
    "outputId": "057b3441-6c2b-4234-fb38-eccd58b2a831"
   },
   "outputs": [
    {
     "data": {
      "text/plain": [
       "['__add__',\n",
       " '__class__',\n",
       " '__contains__',\n",
       " '__delattr__',\n",
       " '__delitem__',\n",
       " '__dir__',\n",
       " '__doc__',\n",
       " '__eq__',\n",
       " '__format__',\n",
       " '__ge__',\n",
       " '__getattribute__',\n",
       " '__getitem__',\n",
       " '__gt__',\n",
       " '__hash__',\n",
       " '__iadd__',\n",
       " '__imul__',\n",
       " '__init__',\n",
       " '__init_subclass__',\n",
       " '__iter__',\n",
       " '__le__',\n",
       " '__len__',\n",
       " '__lt__',\n",
       " '__mul__',\n",
       " '__ne__',\n",
       " '__new__',\n",
       " '__reduce__',\n",
       " '__reduce_ex__',\n",
       " '__repr__',\n",
       " '__reversed__',\n",
       " '__rmul__',\n",
       " '__setattr__',\n",
       " '__setitem__',\n",
       " '__sizeof__',\n",
       " '__str__',\n",
       " '__subclasshook__',\n",
       " 'append',\n",
       " 'clear',\n",
       " 'copy',\n",
       " 'count',\n",
       " 'extend',\n",
       " 'index',\n",
       " 'insert',\n",
       " 'pop',\n",
       " 'remove',\n",
       " 'reverse',\n",
       " 'sort']"
      ]
     },
     "execution_count": 66,
     "metadata": {},
     "output_type": "execute_result"
    }
   ],
   "source": [
    "dir(liste)"
   ]
  },
  {
   "cell_type": "code",
   "execution_count": 67,
   "metadata": {
    "colab": {
     "base_uri": "https://localhost:8080/",
     "height": 0
    },
    "id": "ZIaOS3hv2a2R",
    "outputId": "f5697e66-c5c6-44fc-b29a-0f6e0eaed402"
   },
   "outputs": [
    {
     "data": {
      "text/plain": [
       "['ali', 'veli', 'isik']"
      ]
     },
     "execution_count": 67,
     "metadata": {},
     "output_type": "execute_result"
    }
   ],
   "source": [
    "liste"
   ]
  },
  {
   "cell_type": "code",
   "execution_count": 68,
   "metadata": {
    "id": "3Im3Z2CF2icw"
   },
   "outputs": [],
   "source": [
    "liste.append(\"berkcan\") # eleman ekleme\n",
    "# listede kalıcı bir değişiklik yaptı atama yapmadan oldu."
   ]
  },
  {
   "cell_type": "code",
   "execution_count": 69,
   "metadata": {
    "colab": {
     "base_uri": "https://localhost:8080/",
     "height": 0
    },
    "id": "gH7_O7bN2nPQ",
    "outputId": "5af3544b-82a9-4bb7-ae49-970d04cdcc1c"
   },
   "outputs": [
    {
     "data": {
      "text/plain": [
       "['ali', 'veli', 'isik', 'berkcan']"
      ]
     },
     "execution_count": 69,
     "metadata": {},
     "output_type": "execute_result"
    }
   ],
   "source": [
    "liste"
   ]
  },
  {
   "cell_type": "code",
   "execution_count": 70,
   "metadata": {
    "id": "dM9190ZN2qcS"
   },
   "outputs": [],
   "source": [
    "liste.remove(\"berkcan\") # silme işlemi yaptı."
   ]
  },
  {
   "cell_type": "code",
   "execution_count": 71,
   "metadata": {
    "colab": {
     "base_uri": "https://localhost:8080/",
     "height": 0
    },
    "id": "aL1zi4zl3Deq",
    "outputId": "383f0a37-6454-44d0-f789-8ffb7dda1d66"
   },
   "outputs": [
    {
     "data": {
      "text/plain": [
       "['ali', 'veli', 'isik']"
      ]
     },
     "execution_count": 71,
     "metadata": {},
     "output_type": "execute_result"
    }
   ],
   "source": [
    "liste"
   ]
  },
  {
   "cell_type": "markdown",
   "metadata": {
    "id": "r-vn2qfl3L24"
   },
   "source": [
    "INDEKSE GÖRE ELEMAN EKLEME & SİLME: insert & pop"
   ]
  },
  {
   "cell_type": "code",
   "execution_count": 72,
   "metadata": {
    "id": "Nnp9gTOX3UM3"
   },
   "outputs": [],
   "source": [
    "liste=[\"ali\",\"veli\",\"isik\"]"
   ]
  },
  {
   "cell_type": "code",
   "execution_count": 73,
   "metadata": {
    "id": "n3PTi31N3fVq"
   },
   "outputs": [],
   "source": [
    "liste.insert(0,\"ayşe\") # 0. indekse bir eleman ekledik."
   ]
  },
  {
   "cell_type": "code",
   "execution_count": 74,
   "metadata": {
    "colab": {
     "base_uri": "https://localhost:8080/",
     "height": 0
    },
    "id": "foh5eCmz3lF3",
    "outputId": "6c031f5c-32e3-4b96-cc70-2f9833c0706b"
   },
   "outputs": [
    {
     "data": {
      "text/plain": [
       "['ayşe', 'ali', 'veli', 'isik']"
      ]
     },
     "execution_count": 74,
     "metadata": {},
     "output_type": "execute_result"
    }
   ],
   "source": [
    "liste"
   ]
  },
  {
   "cell_type": "code",
   "execution_count": 75,
   "metadata": {
    "id": "EEzS4pFB34GT"
   },
   "outputs": [],
   "source": [
    "liste.insert(2,\"mehmet\")"
   ]
  },
  {
   "cell_type": "code",
   "execution_count": 76,
   "metadata": {
    "colab": {
     "base_uri": "https://localhost:8080/",
     "height": 0
    },
    "id": "RnxHI0Bv4DuM",
    "outputId": "6f33c1f4-e4c1-4164-b5c8-5a16cdabfb3a"
   },
   "outputs": [
    {
     "data": {
      "text/plain": [
       "['ayşe', 'ali', 'mehmet', 'veli', 'isik']"
      ]
     },
     "execution_count": 76,
     "metadata": {},
     "output_type": "execute_result"
    }
   ],
   "source": [
    "liste"
   ]
  },
  {
   "cell_type": "code",
   "execution_count": 77,
   "metadata": {
    "id": "VamJjIy64LR2"
   },
   "outputs": [],
   "source": [
    "liste.insert(5,\"berk\")"
   ]
  },
  {
   "cell_type": "code",
   "execution_count": 78,
   "metadata": {
    "colab": {
     "base_uri": "https://localhost:8080/",
     "height": 0
    },
    "id": "f01E5LE34SkX",
    "outputId": "94a98c6b-f92b-4d9a-c4dc-90d74eb136d6"
   },
   "outputs": [
    {
     "data": {
      "text/plain": [
       "['ayşe', 'ali', 'mehmet', 'veli', 'isik', 'berk']"
      ]
     },
     "execution_count": 78,
     "metadata": {},
     "output_type": "execute_result"
    }
   ],
   "source": [
    "liste"
   ]
  },
  {
   "cell_type": "code",
   "execution_count": 79,
   "metadata": {
    "id": "lBJjF8Q64VZf"
   },
   "outputs": [],
   "source": [
    "liste.insert(len(liste),\"beren\") # listenin sonuna eklendi."
   ]
  },
  {
   "cell_type": "code",
   "execution_count": 80,
   "metadata": {
    "colab": {
     "base_uri": "https://localhost:8080/",
     "height": 0
    },
    "id": "tzNflsPg4rcq",
    "outputId": "00de25d0-bb9d-4511-ebf7-a252cdcad150"
   },
   "outputs": [
    {
     "data": {
      "text/plain": [
       "['ayşe', 'ali', 'mehmet', 'veli', 'isik', 'berk', 'beren']"
      ]
     },
     "execution_count": 80,
     "metadata": {},
     "output_type": "execute_result"
    }
   ],
   "source": [
    "liste"
   ]
  },
  {
   "cell_type": "code",
   "execution_count": 81,
   "metadata": {
    "colab": {
     "base_uri": "https://localhost:8080/",
     "height": 35
    },
    "id": "1nwau__24v6r",
    "outputId": "d831fff5-a4fb-45c4-edf4-7b9beb6d92da"
   },
   "outputs": [
    {
     "data": {
      "text/plain": [
       "'ayşe'"
      ]
     },
     "execution_count": 81,
     "metadata": {},
     "output_type": "execute_result"
    }
   ],
   "source": [
    "liste.pop(0) # indekse göre eleman sildi."
   ]
  },
  {
   "cell_type": "code",
   "execution_count": 82,
   "metadata": {
    "colab": {
     "base_uri": "https://localhost:8080/",
     "height": 0
    },
    "id": "RPFWyqoh48gi",
    "outputId": "6b6e93b2-99e3-499c-b94a-5ea0cd4f1246"
   },
   "outputs": [
    {
     "data": {
      "text/plain": [
       "['ali', 'mehmet', 'veli', 'isik', 'berk', 'beren']"
      ]
     },
     "execution_count": 82,
     "metadata": {},
     "output_type": "execute_result"
    }
   ],
   "source": [
    "liste"
   ]
  },
  {
   "cell_type": "markdown",
   "metadata": {
    "id": "KKJsfq0y5J3q"
   },
   "source": [
    "DİĞER LİSTE METHODLARI"
   ]
  },
  {
   "cell_type": "markdown",
   "metadata": {
    "id": "QZixBrZr5Qvh"
   },
   "source": [
    "COUNT"
   ]
  },
  {
   "cell_type": "code",
   "execution_count": 83,
   "metadata": {
    "id": "dwaMCYzZ5SMo"
   },
   "outputs": [],
   "source": [
    "liste = ['ali','veli', 'isik', 'ali', 'veli']"
   ]
  },
  {
   "cell_type": "code",
   "execution_count": 84,
   "metadata": {
    "colab": {
     "base_uri": "https://localhost:8080/",
     "height": 0
    },
    "id": "i2Zp_A535fmd",
    "outputId": "4cd65b03-35c6-4130-ccfe-b8a8295f8598"
   },
   "outputs": [
    {
     "data": {
      "text/plain": [
       "2"
      ]
     },
     "execution_count": 84,
     "metadata": {},
     "output_type": "execute_result"
    }
   ],
   "source": [
    "liste.count(\"ali\")"
   ]
  },
  {
   "cell_type": "code",
   "execution_count": 85,
   "metadata": {
    "colab": {
     "base_uri": "https://localhost:8080/",
     "height": 0
    },
    "id": "6kFlKqo_5i9A",
    "outputId": "2f2355b5-2c4c-4acb-f769-1fc7dba4063c"
   },
   "outputs": [
    {
     "data": {
      "text/plain": [
       "1"
      ]
     },
     "execution_count": 85,
     "metadata": {},
     "output_type": "execute_result"
    }
   ],
   "source": [
    "liste.count(\"isik\")"
   ]
  },
  {
   "cell_type": "markdown",
   "metadata": {
    "id": "fKbTuf0S5pTJ"
   },
   "source": [
    "COPY"
   ]
  },
  {
   "cell_type": "code",
   "execution_count": 87,
   "metadata": {
    "id": "jB-2RaFM5oxr"
   },
   "outputs": [],
   "source": [
    "liste_yedek = liste.copy()"
   ]
  },
  {
   "cell_type": "markdown",
   "metadata": {
    "id": "AY1aYPs751WN"
   },
   "source": [
    "EXTEND"
   ]
  },
  {
   "cell_type": "code",
   "execution_count": 88,
   "metadata": {
    "id": "U3Zxj5xg50bI"
   },
   "outputs": [],
   "source": [
    "# 2 listeyi birleştirmek için kullanılıyor."
   ]
  },
  {
   "cell_type": "code",
   "execution_count": 89,
   "metadata": {
    "id": "GJf1U2gU6BO4"
   },
   "outputs": [],
   "source": [
    "liste.extend([\"a\",\"b\",10])"
   ]
  },
  {
   "cell_type": "code",
   "execution_count": 90,
   "metadata": {
    "colab": {
     "base_uri": "https://localhost:8080/",
     "height": 0
    },
    "id": "VrlCnsm86Kl2",
    "outputId": "bc53ac5a-d511-4bd1-ea55-52788beacba0"
   },
   "outputs": [
    {
     "data": {
      "text/plain": [
       "['ali', 'veli', 'isik', 'ali', 'veli', 'a', 'b', 10]"
      ]
     },
     "execution_count": 90,
     "metadata": {},
     "output_type": "execute_result"
    }
   ],
   "source": [
    "liste"
   ]
  },
  {
   "cell_type": "markdown",
   "metadata": {
    "id": "6RcJTcij6RXo"
   },
   "source": [
    "INDEx"
   ]
  },
  {
   "cell_type": "code",
   "execution_count": 91,
   "metadata": {
    "colab": {
     "base_uri": "https://localhost:8080/",
     "height": 0
    },
    "id": "Dk0ng2-36Qt-",
    "outputId": "c1f86d28-4583-4fcf-c191-6ad53245d3f6"
   },
   "outputs": [
    {
     "data": {
      "text/plain": [
       "0"
      ]
     },
     "execution_count": 91,
     "metadata": {},
     "output_type": "execute_result"
    }
   ],
   "source": [
    "liste.index(\"ali\")"
   ]
  },
  {
   "cell_type": "markdown",
   "metadata": {
    "id": "0G1dRu2-6Z8s"
   },
   "source": [
    "REVERSE: elemanları terse çevirme"
   ]
  },
  {
   "cell_type": "code",
   "execution_count": 92,
   "metadata": {
    "id": "FZ46AXAs6e_K"
   },
   "outputs": [],
   "source": [
    "liste.reverse()"
   ]
  },
  {
   "cell_type": "code",
   "execution_count": 93,
   "metadata": {
    "colab": {
     "base_uri": "https://localhost:8080/",
     "height": 0
    },
    "id": "pEeD9dDF6mI4",
    "outputId": "76065075-08dd-44c3-9bb1-ba05bf95aae4"
   },
   "outputs": [
    {
     "data": {
      "text/plain": [
       "[10, 'b', 'a', 'veli', 'ali', 'isik', 'veli', 'ali']"
      ]
     },
     "execution_count": 93,
     "metadata": {},
     "output_type": "execute_result"
    }
   ],
   "source": [
    "liste"
   ]
  },
  {
   "cell_type": "markdown",
   "metadata": {
    "id": "ISIFp8Wa6rQe"
   },
   "source": [
    "SORT : sıralama yapmak için"
   ]
  },
  {
   "cell_type": "code",
   "execution_count": 94,
   "metadata": {
    "id": "3mvRSUiV6unb"
   },
   "outputs": [],
   "source": [
    "liste = [10,40,5,90]"
   ]
  },
  {
   "cell_type": "code",
   "execution_count": 95,
   "metadata": {
    "id": "lmWR40Cp60gs"
   },
   "outputs": [],
   "source": [
    "liste.sort()"
   ]
  },
  {
   "cell_type": "code",
   "execution_count": 96,
   "metadata": {
    "colab": {
     "base_uri": "https://localhost:8080/",
     "height": 0
    },
    "id": "AtY7iJgQ63uz",
    "outputId": "121e09ff-db44-41f5-abaa-6e047a2c6096"
   },
   "outputs": [
    {
     "data": {
      "text/plain": [
       "[5, 10, 40, 90]"
      ]
     },
     "execution_count": 96,
     "metadata": {},
     "output_type": "execute_result"
    }
   ],
   "source": [
    "liste"
   ]
  },
  {
   "cell_type": "markdown",
   "metadata": {
    "id": "ZV6XaiS2686w"
   },
   "source": [
    "CLEAR"
   ]
  },
  {
   "cell_type": "code",
   "execution_count": 97,
   "metadata": {
    "colab": {
     "base_uri": "https://localhost:8080/",
     "height": 0
    },
    "id": "1QB6F3uf6-t3",
    "outputId": "2e57f35f-d1c0-47a6-fcf1-fc9d770a6ccb"
   },
   "outputs": [
    {
     "data": {
      "text/plain": [
       "[]"
      ]
     },
     "execution_count": 97,
     "metadata": {},
     "output_type": "execute_result"
    }
   ],
   "source": [
    "liste.clear()\n",
    "liste"
   ]
  },
  {
   "cell_type": "markdown",
   "metadata": {
    "id": "jbudSYxp7JqR"
   },
   "source": [
    " VERİ YAPILARI-TUPLE(demet) OLUŞTURMA"
   ]
  },
  {
   "cell_type": "code",
   "execution_count": 98,
   "metadata": {
    "id": "QlRHcxmN7OoX"
   },
   "outputs": [],
   "source": [
    "# tuple'r \n",
    "# listelerden farkı değiştirilemezler\n",
    "# sıralıdır \n",
    "# kapsayıcıdır"
   ]
  },
  {
   "cell_type": "code",
   "execution_count": 99,
   "metadata": {
    "id": "wL5beYrh7pft"
   },
   "outputs": [
    {
     "data": {
      "text/plain": [
       "('ali', 'veli', 1, 2, 3.2, [1, 2, 3, 4])"
      ]
     },
     "execution_count": 99,
     "metadata": {},
     "output_type": "execute_result"
    }
   ],
   "source": [
    "t = (\"ali\",\"veli\",1,2,3.2,[1,2,3,4])\n",
    "t"
   ]
  },
  {
   "cell_type": "code",
   "execution_count": 100,
   "metadata": {
    "id": "idpvM2TA79bG"
   },
   "outputs": [
    {
     "data": {
      "text/plain": [
       "('ali', 'veli', 1, 2, 3.2, [1, 2, 3, 4])"
      ]
     },
     "execution_count": 100,
     "metadata": {},
     "output_type": "execute_result"
    }
   ],
   "source": [
    "t = \"ali\",\"veli\",1,2,3.2,[1,2,3,4]\n",
    "t"
   ]
  },
  {
   "cell_type": "code",
   "execution_count": 101,
   "metadata": {
    "id": "XuTWyQ7s8ErF"
   },
   "outputs": [],
   "source": [
    "t = (\"eleman\",) # tek elemanlı tuple oluşturmak için sonuna virgül atmak gerekiyor."
   ]
  },
  {
   "cell_type": "code",
   "execution_count": 102,
   "metadata": {
    "colab": {
     "base_uri": "https://localhost:8080/",
     "height": 0
    },
    "id": "zV1590Lq8Lo3",
    "outputId": "cf858fde-744e-42c4-ee62-18922f4435f9"
   },
   "outputs": [
    {
     "data": {
      "text/plain": [
       "tuple"
      ]
     },
     "execution_count": 102,
     "metadata": {},
     "output_type": "execute_result"
    }
   ],
   "source": [
    "type(t)"
   ]
  },
  {
   "cell_type": "markdown",
   "metadata": {
    "id": "Kfce8Kt18sEq"
   },
   "source": [
    "TUPLE ELEMAN İŞLEMLERİ"
   ]
  },
  {
   "cell_type": "code",
   "execution_count": 103,
   "metadata": {
    "id": "J8juXoZu8aIb"
   },
   "outputs": [],
   "source": [
    "t = (\"ali\",\"veli\",1,2,3, [1,2,3,4])"
   ]
  },
  {
   "cell_type": "code",
   "execution_count": 104,
   "metadata": {
    "colab": {
     "base_uri": "https://localhost:8080/",
     "height": 0
    },
    "id": "KbqRDkNQ84RR",
    "outputId": "69384fe7-87fe-4c1a-95e9-2662446b9ee1"
   },
   "outputs": [
    {
     "data": {
      "text/plain": [
       "('ali', 'veli', 1, 2, 3, [1, 2, 3, 4])"
      ]
     },
     "execution_count": 104,
     "metadata": {},
     "output_type": "execute_result"
    }
   ],
   "source": [
    "t"
   ]
  },
  {
   "cell_type": "code",
   "execution_count": 105,
   "metadata": {
    "colab": {
     "base_uri": "https://localhost:8080/",
     "height": 35
    },
    "id": "YQ8l2d4j8655",
    "outputId": "182e807a-40cf-4fd0-83fe-a5c99ffabdb7"
   },
   "outputs": [
    {
     "data": {
      "text/plain": [
       "'veli'"
      ]
     },
     "execution_count": 105,
     "metadata": {},
     "output_type": "execute_result"
    }
   ],
   "source": [
    "t[1]"
   ]
  },
  {
   "cell_type": "code",
   "execution_count": 106,
   "metadata": {
    "colab": {
     "base_uri": "https://localhost:8080/",
     "height": 0
    },
    "id": "PFrAwNmR88_r",
    "outputId": "1c874dc0-55b2-4cec-e72c-1e5ac8ad3a1f"
   },
   "outputs": [
    {
     "data": {
      "text/plain": [
       "('ali', 'veli', 1)"
      ]
     },
     "execution_count": 106,
     "metadata": {},
     "output_type": "execute_result"
    }
   ],
   "source": [
    "t[0:3]"
   ]
  },
  {
   "cell_type": "markdown",
   "metadata": {
    "id": "6s3o0PNE-B1c"
   },
   "source": [
    "SÖZLÜK OLUŞTURMA (DİCTİONARY)"
   ]
  },
  {
   "cell_type": "code",
   "execution_count": 107,
   "metadata": {
    "id": "VaAg6GeW9Jyi"
   },
   "outputs": [],
   "source": [
    "# KAPSAYICI\n",
    "# SIRASIZ\n",
    "# DEĞİŞTİRİLEBİLİR"
   ]
  },
  {
   "cell_type": "code",
   "execution_count": 108,
   "metadata": {
    "id": "DvmHifd8-d8S"
   },
   "outputs": [],
   "source": [
    "# LİSTELERDE OLDUĞU GİBİ İNDEX İŞLEMİ YAPILAMAZ"
   ]
  },
  {
   "cell_type": "code",
   "execution_count": 109,
   "metadata": {
    "id": "GnUICYpC-npR"
   },
   "outputs": [],
   "source": [
    "sozluk = {\"REG\" : \"Regresyon Modeli\",\n",
    "        \"LOJ\" : \"Lojistik Regresyon\",\n",
    "        \"CART\" : \"Classification and Reg\"}"
   ]
  },
  {
   "cell_type": "code",
   "execution_count": 110,
   "metadata": {
    "colab": {
     "base_uri": "https://localhost:8080/",
     "height": 0
    },
    "id": "3Xon14Hj_dP9",
    "outputId": "fa88e6bd-ebda-49cb-9a96-5f3339153c09"
   },
   "outputs": [
    {
     "data": {
      "text/plain": [
       "{'REG': 'Regresyon Modeli',\n",
       " 'LOJ': 'Lojistik Regresyon',\n",
       " 'CART': 'Classification and Reg'}"
      ]
     },
     "execution_count": 110,
     "metadata": {},
     "output_type": "execute_result"
    }
   ],
   "source": [
    "sozluk"
   ]
  },
  {
   "cell_type": "code",
   "execution_count": 111,
   "metadata": {
    "colab": {
     "base_uri": "https://localhost:8080/",
     "height": 0
    },
    "id": "0ALdCxXo_ppt",
    "outputId": "0b108fb2-7049-468f-ec92-536ec4c41912"
   },
   "outputs": [
    {
     "data": {
      "text/plain": [
       "3"
      ]
     },
     "execution_count": 111,
     "metadata": {},
     "output_type": "execute_result"
    }
   ],
   "source": [
    "len(sozluk)"
   ]
  },
  {
   "cell_type": "code",
   "execution_count": 112,
   "metadata": {
    "id": "UlyYqys6_5J5"
   },
   "outputs": [],
   "source": [
    "sozluk = {\"REG\" : 10,\n",
    "          \"LOJ\" : 20,\n",
    "          \"CART\" : 30}"
   ]
  },
  {
   "cell_type": "code",
   "execution_count": 113,
   "metadata": {
    "colab": {
     "base_uri": "https://localhost:8080/",
     "height": 0
    },
    "id": "078nfp-2ABci",
    "outputId": "4ff06a37-8e20-4c69-ad97-652c8934c23b"
   },
   "outputs": [
    {
     "data": {
      "text/plain": [
       "{'REG': 10, 'LOJ': 20, 'CART': 30}"
      ]
     },
     "execution_count": 113,
     "metadata": {},
     "output_type": "execute_result"
    }
   ],
   "source": [
    "sozluk"
   ]
  },
  {
   "cell_type": "code",
   "execution_count": 114,
   "metadata": {
    "id": "r29zltsqAXdy"
   },
   "outputs": [],
   "source": [
    "sozluk = {\"REG\" : [\"RMSE\",10],\n",
    "          \"LOJ\" : [\"MSE\", 20],\n",
    "          \"CART\" : [\"SSE\",30]}"
   ]
  },
  {
   "cell_type": "code",
   "execution_count": 115,
   "metadata": {
    "colab": {
     "base_uri": "https://localhost:8080/",
     "height": 0
    },
    "id": "mCYjxKb1AsN6",
    "outputId": "b660250a-df4c-4f4f-b8fb-693ad6071c49"
   },
   "outputs": [
    {
     "data": {
      "text/plain": [
       "{'REG': ['RMSE', 10], 'LOJ': ['MSE', 20], 'CART': ['SSE', 30]}"
      ]
     },
     "execution_count": 115,
     "metadata": {},
     "output_type": "execute_result"
    }
   ],
   "source": [
    "sozluk"
   ]
  },
  {
   "cell_type": "markdown",
   "metadata": {
    "id": "Lwqb2GY7BJtE"
   },
   "source": [
    "DİCTİONARY ELEMAN SEÇME İŞLEMLERİ"
   ]
  },
  {
   "cell_type": "code",
   "execution_count": 118,
   "metadata": {
    "id": "CFXDnfrKIpm8"
   },
   "outputs": [],
   "source": [
    "sozluk = {\"REG\" : \"Regresyon Modeli\",\n",
    "        \"LOJ\" : \"Lojistik Regresyon\",\n",
    "        \"CART\" : \"Classification and Reg\"}"
   ]
  },
  {
   "cell_type": "code",
   "execution_count": 119,
   "metadata": {
    "colab": {
     "base_uri": "https://localhost:8080/",
     "height": 35
    },
    "id": "EEon9lVHNHz0",
    "outputId": "ab98bfb1-ed42-41d9-f2ea-3ff0f3d1659b"
   },
   "outputs": [
    {
     "data": {
      "text/plain": [
       "'Regresyon Modeli'"
      ]
     },
     "execution_count": 119,
     "metadata": {},
     "output_type": "execute_result"
    }
   ],
   "source": [
    "sozluk[\"REG\"]"
   ]
  },
  {
   "cell_type": "code",
   "execution_count": 120,
   "metadata": {
    "id": "hNmLGpR8NXCq"
   },
   "outputs": [],
   "source": [
    "sozluk = {\"REG\" : [\"RMSE\",10],\n",
    "          \"LOJ\" : [\"MSE\", 20],\n",
    "          \"CART\" : [\"SSE\",30]}"
   ]
  },
  {
   "cell_type": "code",
   "execution_count": 121,
   "metadata": {
    "colab": {
     "base_uri": "https://localhost:8080/",
     "height": 0
    },
    "id": "pf2Z1V9XNX8z",
    "outputId": "711ab8c6-53c3-4aff-8582-bcf604cfcb47"
   },
   "outputs": [
    {
     "data": {
      "text/plain": [
       "'RMSE'"
      ]
     },
     "execution_count": 121,
     "metadata": {},
     "output_type": "execute_result"
    }
   ],
   "source": [
    "sozluk[\"REG\"][0]"
   ]
  },
  {
   "cell_type": "code",
   "execution_count": 122,
   "metadata": {
    "id": "35sWchyNNkTu"
   },
   "outputs": [],
   "source": [
    "sozluk = {\"REG\" : {\"RMSE\": 10,\n",
    "                   \"MSE\" : 20,\n",
    "                   \"SSE\" : 30},\n",
    "          \n",
    "          \"LOJ\" : {\"RMSE\" : 10,\n",
    "                   \"MSE\" : 20,\n",
    "                   \"SSE\" : 30},\n",
    "                  \n",
    "          \"CART\" : {\"RMSE\" : 10,\n",
    "                   \"MSE\" : 20,\n",
    "                   \"SSE\" : 30}}"
   ]
  },
  {
   "cell_type": "code",
   "execution_count": 123,
   "metadata": {
    "colab": {
     "base_uri": "https://localhost:8080/",
     "height": 0
    },
    "id": "5CJHxyQlOHNX",
    "outputId": "7ea1d7e7-7039-44b1-e060-e4c888e6de3c"
   },
   "outputs": [
    {
     "data": {
      "text/plain": [
       "{'REG': {'RMSE': 10, 'MSE': 20, 'SSE': 30},\n",
       " 'LOJ': {'RMSE': 10, 'MSE': 20, 'SSE': 30},\n",
       " 'CART': {'RMSE': 10, 'MSE': 20, 'SSE': 30}}"
      ]
     },
     "execution_count": 123,
     "metadata": {},
     "output_type": "execute_result"
    }
   ],
   "source": [
    "sozluk"
   ]
  },
  {
   "cell_type": "code",
   "execution_count": 124,
   "metadata": {
    "colab": {
     "base_uri": "https://localhost:8080/",
     "height": 0
    },
    "id": "d2CcKGh5OLpm",
    "outputId": "c38dbc0d-cd51-4913-e881-b3ec6b4d2f60"
   },
   "outputs": [
    {
     "data": {
      "text/plain": [
       "30"
      ]
     },
     "execution_count": 124,
     "metadata": {},
     "output_type": "execute_result"
    }
   ],
   "source": [
    "sozluk[\"REG\"][\"SSE\"]"
   ]
  },
  {
   "cell_type": "markdown",
   "metadata": {
    "id": "qHKuxy4wOqFI"
   },
   "source": [
    "***dictionary eleman ekleme ve değiştirme***"
   ]
  },
  {
   "cell_type": "code",
   "execution_count": 125,
   "metadata": {
    "id": "ypooub5MOptY"
   },
   "outputs": [],
   "source": [
    " sozluk = {\"REG\" : \"Regresyon Modeli\",\n",
    "        \"LOJ\" : \"Lojistik Regresyon\",\n",
    "        \"CART\" : \"Classification and Reg\"}"
   ]
  },
  {
   "cell_type": "code",
   "execution_count": 126,
   "metadata": {
    "id": "s7Y9E76WPAix"
   },
   "outputs": [],
   "source": [
    "sozluk[\"GBM\"] = \"Gradient Boosting Mac\" # ekleme yaptı."
   ]
  },
  {
   "cell_type": "code",
   "execution_count": 127,
   "metadata": {
    "colab": {
     "base_uri": "https://localhost:8080/",
     "height": 0
    },
    "id": "x4OWy-tFPII_",
    "outputId": "650048a9-6c71-465b-f4d5-45229c5362ce"
   },
   "outputs": [
    {
     "data": {
      "text/plain": [
       "{'REG': 'Regresyon Modeli',\n",
       " 'LOJ': 'Lojistik Regresyon',\n",
       " 'CART': 'Classification and Reg',\n",
       " 'GBM': 'Gradient Boosting Mac'}"
      ]
     },
     "execution_count": 127,
     "metadata": {},
     "output_type": "execute_result"
    }
   ],
   "source": [
    "sozluk"
   ]
  },
  {
   "cell_type": "code",
   "execution_count": 128,
   "metadata": {
    "id": "Rh__1JjaPN4A"
   },
   "outputs": [],
   "source": [
    "sozluk[\"REG\"] = \"Coklu Doğrusal Regresyon\" # baştan bir atama yapıyor."
   ]
  },
  {
   "cell_type": "code",
   "execution_count": 129,
   "metadata": {
    "colab": {
     "base_uri": "https://localhost:8080/",
     "height": 0
    },
    "id": "BwY8r2DsPVSS",
    "outputId": "e659e5b6-9cad-4bad-9c5d-66918707d8fd"
   },
   "outputs": [
    {
     "data": {
      "text/plain": [
       "{'REG': 'Coklu Doğrusal Regresyon',\n",
       " 'LOJ': 'Lojistik Regresyon',\n",
       " 'CART': 'Classification and Reg',\n",
       " 'GBM': 'Gradient Boosting Mac'}"
      ]
     },
     "execution_count": 129,
     "metadata": {},
     "output_type": "execute_result"
    }
   ],
   "source": [
    "sozluk"
   ]
  },
  {
   "cell_type": "code",
   "execution_count": 130,
   "metadata": {
    "id": "EtX9j6MDPem5"
   },
   "outputs": [],
   "source": [
    "sozluk[1] = \"Yapay Sinir Aglari\""
   ]
  },
  {
   "cell_type": "code",
   "execution_count": 131,
   "metadata": {
    "colab": {
     "base_uri": "https://localhost:8080/",
     "height": 0
    },
    "id": "V7z0v3PYPn4H",
    "outputId": "a06c270a-e817-42a6-c768-8a1738c26243"
   },
   "outputs": [
    {
     "data": {
      "text/plain": [
       "{'REG': 'Coklu Doğrusal Regresyon',\n",
       " 'LOJ': 'Lojistik Regresyon',\n",
       " 'CART': 'Classification and Reg',\n",
       " 'GBM': 'Gradient Boosting Mac',\n",
       " 1: 'Yapay Sinir Aglari'}"
      ]
     },
     "execution_count": 131,
     "metadata": {},
     "output_type": "execute_result"
    }
   ],
   "source": [
    "sozluk"
   ]
  },
  {
   "cell_type": "code",
   "execution_count": 133,
   "metadata": {
    "colab": {
     "base_uri": "https://localhost:8080/",
     "height": 0
    },
    "id": "Oa_fTrLwPt7c",
    "outputId": "0a400851-83c7-4624-b901-1e4b91ac83f3"
   },
   "outputs": [
    {
     "data": {
      "text/plain": [
       "[1]"
      ]
     },
     "execution_count": 133,
     "metadata": {},
     "output_type": "execute_result"
    }
   ],
   "source": [
    "l = [1]\n",
    "l"
   ]
  },
  {
   "cell_type": "code",
   "execution_count": 134,
   "metadata": {
    "colab": {
     "base_uri": "https://localhost:8080/",
     "height": 162
    },
    "id": "I4FoyrObP4Xw",
    "outputId": "43562cd2-5936-4016-a7a9-09f8e66b2e68"
   },
   "outputs": [
    {
     "ename": "TypeError",
     "evalue": "unhashable type: 'list'",
     "output_type": "error",
     "traceback": [
      "\u001b[1;31m---------------------------------------------------------------------------\u001b[0m",
      "\u001b[1;31mTypeError\u001b[0m                                 Traceback (most recent call last)",
      "\u001b[1;32m<ipython-input-134-965cb42a9e17>\u001b[0m in \u001b[0;36m<module>\u001b[1;34m\u001b[0m\n\u001b[1;32m----> 1\u001b[1;33m \u001b[0msozluk\u001b[0m\u001b[1;33m[\u001b[0m\u001b[0ml\u001b[0m\u001b[1;33m]\u001b[0m \u001b[1;33m=\u001b[0m \u001b[1;34m\"yeni bir şey\"\u001b[0m \u001b[1;31m# sözlüklerde key değerleri ancak sabit sabit veri yapılarıyla oluşturulabilir.\u001b[0m\u001b[1;33m\u001b[0m\u001b[1;33m\u001b[0m\u001b[0m\n\u001b[0m",
      "\u001b[1;31mTypeError\u001b[0m: unhashable type: 'list'"
     ]
    }
   ],
   "source": [
    "sozluk[l] = \"yeni bir şey\" # sözlüklerde key değerleri ancak sabit sabit veri yapılarıyla oluşturulabilir."
   ]
  },
  {
   "cell_type": "code",
   "execution_count": 135,
   "metadata": {
    "id": "5WLVSsLDQM-X"
   },
   "outputs": [],
   "source": [
    "# stringler ve sayılar sabit veri yapılarıdır."
   ]
  },
  {
   "cell_type": "code",
   "execution_count": 136,
   "metadata": {
    "id": "y0xd_rqxQiib"
   },
   "outputs": [],
   "source": [
    "t = (\"tuple\",) # sabit yapı tuple ile yapıldı."
   ]
  },
  {
   "cell_type": "code",
   "execution_count": 137,
   "metadata": {
    "id": "jTW9EB2zQu__"
   },
   "outputs": [],
   "source": [
    "sozluk[t] = \"yeni bir şey\""
   ]
  },
  {
   "cell_type": "code",
   "execution_count": 138,
   "metadata": {
    "colab": {
     "base_uri": "https://localhost:8080/",
     "height": 0
    },
    "id": "TCy9S8VDQzLd",
    "outputId": "b8b843b4-f726-4536-a86e-40666cf34962"
   },
   "outputs": [
    {
     "data": {
      "text/plain": [
       "{'REG': 'Coklu Doğrusal Regresyon',\n",
       " 'LOJ': 'Lojistik Regresyon',\n",
       " 'CART': 'Classification and Reg',\n",
       " 'GBM': 'Gradient Boosting Mac',\n",
       " 1: 'Yapay Sinir Aglari',\n",
       " ('tuple',): 'yeni bir şey'}"
      ]
     },
     "execution_count": 138,
     "metadata": {},
     "output_type": "execute_result"
    }
   ],
   "source": [
    "sozluk"
   ]
  },
  {
   "cell_type": "markdown",
   "metadata": {
    "id": "WA4ZiPZ-Q_4b"
   },
   "source": [
    "KÜME OLUŞTURMA VERİ YAPILARI-Setler\n",
    "\n"
   ]
  },
  {
   "cell_type": "code",
   "execution_count": 139,
   "metadata": {
    "id": "GLJQAVzjRJAX"
   },
   "outputs": [],
   "source": [
    "# setler:\n",
    "# sırasızdır\n",
    "# değerleri eşsizdir\n",
    "# değiştirilebilr.\n",
    "# farklı tipleri barındıralr."
   ]
  },
  {
   "cell_type": "code",
   "execution_count": 140,
   "metadata": {
    "id": "hrN1_EcvReKn"
   },
   "outputs": [],
   "source": [
    "# set oluşturma"
   ]
  },
  {
   "cell_type": "code",
   "execution_count": 141,
   "metadata": {
    "colab": {
     "base_uri": "https://localhost:8080/",
     "height": 0
    },
    "id": "CrbVJrmFRnLB",
    "outputId": "60aacf58-4c6d-458e-aafc-bc4738b5b670"
   },
   "outputs": [
    {
     "data": {
      "text/plain": [
       "set()"
      ]
     },
     "execution_count": 141,
     "metadata": {},
     "output_type": "execute_result"
    }
   ],
   "source": [
    "s = set()\n",
    "s"
   ]
  },
  {
   "cell_type": "code",
   "execution_count": 142,
   "metadata": {
    "colab": {
     "base_uri": "https://localhost:8080/",
     "height": 0
    },
    "id": "ltxze8rSRqdt",
    "outputId": "7b147e1a-ab13-4eb1-edf9-767f171c73c5"
   },
   "outputs": [
    {
     "data": {
      "text/plain": [
       "{1, 123, 'a', 'ali'}"
      ]
     },
     "execution_count": 142,
     "metadata": {},
     "output_type": "execute_result"
    }
   ],
   "source": [
    "l = [1,\"a\",\"ali\",123]\n",
    "s = set(l)\n",
    "s"
   ]
  },
  {
   "cell_type": "code",
   "execution_count": 143,
   "metadata": {
    "colab": {
     "base_uri": "https://localhost:8080/",
     "height": 0
    },
    "id": "_ynt8PewSC7o",
    "outputId": "00b46e8c-48e9-41b7-9273-0815715e5d02"
   },
   "outputs": [
    {
     "data": {
      "text/plain": [
       "{'a', 'ali'}"
      ]
     },
     "execution_count": 143,
     "metadata": {},
     "output_type": "execute_result"
    }
   ],
   "source": [
    "t = (\"a\",\"ali\") # tuple üzerinden set oluşturuldu.\n",
    "s = set(t)\n",
    "s"
   ]
  },
  {
   "cell_type": "code",
   "execution_count": 144,
   "metadata": {
    "id": "IvHxt_DRVVOl"
   },
   "outputs": [],
   "source": [
    "ali = \"lutfen_ata_bakma_uzaya_git\""
   ]
  },
  {
   "cell_type": "code",
   "execution_count": 145,
   "metadata": {
    "colab": {
     "base_uri": "https://localhost:8080/",
     "height": 0
    },
    "id": "cYyTLeAqVaym",
    "outputId": "cbfcb666-50f4-4ad9-bdbb-1cb8900f3962"
   },
   "outputs": [
    {
     "data": {
      "text/plain": [
       "str"
      ]
     },
     "execution_count": 145,
     "metadata": {},
     "output_type": "execute_result"
    }
   ],
   "source": [
    "type(ali)"
   ]
  },
  {
   "cell_type": "code",
   "execution_count": 146,
   "metadata": {
    "colab": {
     "base_uri": "https://localhost:8080/",
     "height": 0
    },
    "id": "APN-HN-jVf7H",
    "outputId": "efac3b0e-3abe-49c4-969f-e3848e6f8ba5"
   },
   "outputs": [
    {
     "data": {
      "text/plain": [
       "{'_', 'a', 'b', 'e', 'f', 'g', 'i', 'k', 'l', 'm', 'n', 't', 'u', 'y', 'z'}"
      ]
     },
     "execution_count": 146,
     "metadata": {},
     "output_type": "execute_result"
    }
   ],
   "source": [
    "s = set(ali) # bütün elemaları parçaladı. her bir karakter bir defa geçti\n",
    "s"
   ]
  },
  {
   "cell_type": "code",
   "execution_count": 147,
   "metadata": {
    "id": "kBlfzbLnVwWY"
   },
   "outputs": [],
   "source": [
    "l = [\"ali\", \"lutfen\", \"ata\", \"bakma\", \"uzaya\",\n",
    "     \"git\", \"git\", \"ali\",\"git\"]\n"
   ]
  },
  {
   "cell_type": "code",
   "execution_count": 148,
   "metadata": {
    "colab": {
     "base_uri": "https://localhost:8080/",
     "height": 0
    },
    "id": "4tePLqf2V-4n",
    "outputId": "7fd50124-5ef3-4f82-e814-e792ac12f6dc"
   },
   "outputs": [
    {
     "data": {
      "text/plain": [
       "['ali', 'lutfen', 'ata', 'bakma', 'uzaya', 'git', 'git', 'ali', 'git']"
      ]
     },
     "execution_count": 148,
     "metadata": {},
     "output_type": "execute_result"
    }
   ],
   "source": [
    "l"
   ]
  },
  {
   "cell_type": "code",
   "execution_count": 149,
   "metadata": {
    "colab": {
     "base_uri": "https://localhost:8080/",
     "height": 0
    },
    "id": "Jv4OjlfmWBxl",
    "outputId": "a0c22253-f31c-4653-d2aa-7c3ac7191fc8"
   },
   "outputs": [
    {
     "data": {
      "text/plain": [
       "{'ali', 'ata', 'bakma', 'git', 'lutfen', 'uzaya'}"
      ]
     },
     "execution_count": 149,
     "metadata": {},
     "output_type": "execute_result"
    }
   ],
   "source": [
    "s = set(l)\n",
    "s"
   ]
  },
  {
   "cell_type": "code",
   "execution_count": 150,
   "metadata": {
    "colab": {
     "base_uri": "https://localhost:8080/",
     "height": 0
    },
    "id": "i1cEqKOUWJip",
    "outputId": "d1ad339b-3de6-460f-c5f2-3ba0119e66e7"
   },
   "outputs": [
    {
     "data": {
      "text/plain": [
       "6"
      ]
     },
     "execution_count": 150,
     "metadata": {},
     "output_type": "execute_result"
    }
   ],
   "source": [
    "len(s)"
   ]
  },
  {
   "cell_type": "code",
   "execution_count": 151,
   "metadata": {
    "colab": {
     "base_uri": "https://localhost:8080/",
     "height": 35
    },
    "id": "_BEAsDMgWOQk",
    "outputId": "5f3e2c7e-4437-4320-d172-476f21f076e1"
   },
   "outputs": [
    {
     "data": {
      "text/plain": [
       "'ali'"
      ]
     },
     "execution_count": 151,
     "metadata": {},
     "output_type": "execute_result"
    }
   ],
   "source": [
    "l[0]"
   ]
  },
  {
   "cell_type": "code",
   "execution_count": 152,
   "metadata": {
    "colab": {
     "base_uri": "https://localhost:8080/",
     "height": 162
    },
    "id": "KmvettjgWSZh",
    "outputId": "fca8c1eb-c5b8-49a0-9a97-aaca6b417fe2"
   },
   "outputs": [
    {
     "ename": "TypeError",
     "evalue": "'set' object is not subscriptable",
     "output_type": "error",
     "traceback": [
      "\u001b[1;31m---------------------------------------------------------------------------\u001b[0m",
      "\u001b[1;31mTypeError\u001b[0m                                 Traceback (most recent call last)",
      "\u001b[1;32m<ipython-input-152-25993b12b026>\u001b[0m in \u001b[0;36m<module>\u001b[1;34m\u001b[0m\n\u001b[1;32m----> 1\u001b[1;33m \u001b[0ms\u001b[0m\u001b[1;33m[\u001b[0m\u001b[1;36m0\u001b[0m\u001b[1;33m]\u001b[0m \u001b[1;31m# hata verir.set olduğu için\u001b[0m\u001b[1;33m\u001b[0m\u001b[1;33m\u001b[0m\u001b[0m\n\u001b[0m",
      "\u001b[1;31mTypeError\u001b[0m: 'set' object is not subscriptable"
     ]
    }
   ],
   "source": [
    "s[0] # hata verir.set olduğu için"
   ]
  },
  {
   "cell_type": "markdown",
   "metadata": {
    "id": "vczMdcVAWcZG"
   },
   "source": [
    "SETLERDE ELEMAN EKLEME VE ÇIKARMA"
   ]
  },
  {
   "cell_type": "code",
   "execution_count": 153,
   "metadata": {
    "colab": {
     "base_uri": "https://localhost:8080/",
     "height": 0
    },
    "id": "GYA0UnmNWi0_",
    "outputId": "4bfd60f4-8e99-4ff5-c262-aaaffa86c555"
   },
   "outputs": [
    {
     "data": {
      "text/plain": [
       "{'gelecegi', 'yazanlar'}"
      ]
     },
     "execution_count": 153,
     "metadata": {},
     "output_type": "execute_result"
    }
   ],
   "source": [
    "l = [\"gelecegi\", \"yazanlar\"]\n",
    "s = set(l)\n",
    "s"
   ]
  },
  {
   "cell_type": "code",
   "execution_count": 154,
   "metadata": {
    "colab": {
     "base_uri": "https://localhost:8080/",
     "height": 0
    },
    "id": "uVtpAGMwWxVA",
    "outputId": "dbbc4a20-f162-4672-c884-f9c8b31470be"
   },
   "outputs": [
    {
     "data": {
      "text/plain": [
       "['__and__',\n",
       " '__class__',\n",
       " '__contains__',\n",
       " '__delattr__',\n",
       " '__dir__',\n",
       " '__doc__',\n",
       " '__eq__',\n",
       " '__format__',\n",
       " '__ge__',\n",
       " '__getattribute__',\n",
       " '__gt__',\n",
       " '__hash__',\n",
       " '__iand__',\n",
       " '__init__',\n",
       " '__init_subclass__',\n",
       " '__ior__',\n",
       " '__isub__',\n",
       " '__iter__',\n",
       " '__ixor__',\n",
       " '__le__',\n",
       " '__len__',\n",
       " '__lt__',\n",
       " '__ne__',\n",
       " '__new__',\n",
       " '__or__',\n",
       " '__rand__',\n",
       " '__reduce__',\n",
       " '__reduce_ex__',\n",
       " '__repr__',\n",
       " '__ror__',\n",
       " '__rsub__',\n",
       " '__rxor__',\n",
       " '__setattr__',\n",
       " '__sizeof__',\n",
       " '__str__',\n",
       " '__sub__',\n",
       " '__subclasshook__',\n",
       " '__xor__',\n",
       " 'add',\n",
       " 'clear',\n",
       " 'copy',\n",
       " 'difference',\n",
       " 'difference_update',\n",
       " 'discard',\n",
       " 'intersection',\n",
       " 'intersection_update',\n",
       " 'isdisjoint',\n",
       " 'issubset',\n",
       " 'issuperset',\n",
       " 'pop',\n",
       " 'remove',\n",
       " 'symmetric_difference',\n",
       " 'symmetric_difference_update',\n",
       " 'union',\n",
       " 'update']"
      ]
     },
     "execution_count": 154,
     "metadata": {},
     "output_type": "execute_result"
    }
   ],
   "source": [
    "dir(s)"
   ]
  },
  {
   "cell_type": "code",
   "execution_count": 155,
   "metadata": {
    "colab": {
     "base_uri": "https://localhost:8080/",
     "height": 0
    },
    "id": "0WvW65IVW4kc",
    "outputId": "78d7bccf-f1df-4e01-a845-46a2be1c2802"
   },
   "outputs": [
    {
     "data": {
      "text/plain": [
       "{'gelecegi', 'ile', 'yazanlar'}"
      ]
     },
     "execution_count": 155,
     "metadata": {},
     "output_type": "execute_result"
    }
   ],
   "source": [
    "s.add(\"ile\") # ekleme işlemi yapar.\n",
    "s"
   ]
  },
  {
   "cell_type": "code",
   "execution_count": 156,
   "metadata": {
    "colab": {
     "base_uri": "https://localhost:8080/",
     "height": 0
    },
    "id": "XIsud7LqXAtw",
    "outputId": "b0276b3e-6de9-4d6f-f5e3-ed77f8500a81"
   },
   "outputs": [
    {
     "data": {
      "text/plain": [
       "{'gelecege_git', 'gelecegi', 'ile', 'yazanlar'}"
      ]
     },
     "execution_count": 156,
     "metadata": {},
     "output_type": "execute_result"
    }
   ],
   "source": [
    "s.add(\"gelecege_git\")\n",
    "s"
   ]
  },
  {
   "cell_type": "code",
   "execution_count": 157,
   "metadata": {
    "colab": {
     "base_uri": "https://localhost:8080/",
     "height": 0
    },
    "id": "2G2B4bTmXUhW",
    "outputId": "43d75114-53aa-4296-c418-3142882e50f4"
   },
   "outputs": [
    {
     "data": {
      "text/plain": [
       "{'gelecege_git', 'gelecegi', 'ile', 'yazanlar'}"
      ]
     },
     "execution_count": 157,
     "metadata": {},
     "output_type": "execute_result"
    }
   ],
   "source": [
    "s.add(\"ile\") # var olan değeri eklemiyor.\n",
    "s"
   ]
  },
  {
   "cell_type": "code",
   "execution_count": 158,
   "metadata": {
    "colab": {
     "base_uri": "https://localhost:8080/",
     "height": 0
    },
    "id": "8I1VRh2KXdO-",
    "outputId": "48b1a1ea-ee92-4a59-cd1f-e4f650ed1556"
   },
   "outputs": [
    {
     "data": {
      "text/plain": [
       "{'gelecege_git', 'gelecegi', 'yazanlar'}"
      ]
     },
     "execution_count": 158,
     "metadata": {},
     "output_type": "execute_result"
    }
   ],
   "source": [
    "s.remove(\"ile\") # silme\n",
    "s"
   ]
  },
  {
   "cell_type": "code",
   "execution_count": 159,
   "metadata": {
    "id": "8_BK4LiqYB78"
   },
   "outputs": [],
   "source": [
    "s.discard(\"ile\") # içinde silecek bişey bulamadı"
   ]
  },
  {
   "cell_type": "markdown",
   "metadata": {
    "id": "5ORACdQnZFUZ"
   },
   "source": [
    "## Setler - Klasik Kume Islemleri:\n",
    "* difference() ile iki kumenin farkini ya da \"-\" ifadesi\n",
    "* intersection() iki kume kesisimi ya da \"&\" ifadesi \n",
    "* union() iki kumenin birlesi i\n",
    "* symmetric_difference() ikisinde de olmayanlar.\n"
   ]
  },
  {
   "cell_type": "code",
   "execution_count": 160,
   "metadata": {
    "id": "Rb_cghX1ZP8B"
   },
   "outputs": [],
   "source": [
    "# difference"
   ]
  },
  {
   "cell_type": "code",
   "execution_count": 161,
   "metadata": {
    "id": "9BBA-cgZZvCm"
   },
   "outputs": [],
   "source": [
    "set1 = set([1,3,5])\n",
    "set2 = set([1,2,3])"
   ]
  },
  {
   "cell_type": "code",
   "execution_count": 162,
   "metadata": {
    "colab": {
     "base_uri": "https://localhost:8080/",
     "height": 0
    },
    "id": "xFy9nXYqdkvR",
    "outputId": "af324e52-2cc7-4b45-ba1e-407f29c23fd7"
   },
   "outputs": [
    {
     "data": {
      "text/plain": [
       "{5}"
      ]
     },
     "execution_count": 162,
     "metadata": {},
     "output_type": "execute_result"
    }
   ],
   "source": [
    "set1.difference(set2) # set 1 de olup set 2 de olmayan değerler gelir."
   ]
  },
  {
   "cell_type": "code",
   "execution_count": 163,
   "metadata": {
    "colab": {
     "base_uri": "https://localhost:8080/",
     "height": 0
    },
    "id": "-cJNy3apd3NW",
    "outputId": "8abc4375-c810-4f42-a2ed-b98650d95912"
   },
   "outputs": [
    {
     "data": {
      "text/plain": [
       "{2}"
      ]
     },
     "execution_count": 163,
     "metadata": {},
     "output_type": "execute_result"
    }
   ],
   "source": [
    "set2.difference(set1)"
   ]
  },
  {
   "cell_type": "code",
   "execution_count": 164,
   "metadata": {
    "colab": {
     "base_uri": "https://localhost:8080/",
     "height": 0
    },
    "id": "y8soG3n5eGfv",
    "outputId": "5f878564-b467-4136-a1c0-82576883e5f7"
   },
   "outputs": [
    {
     "data": {
      "text/plain": [
       "{2, 5}"
      ]
     },
     "execution_count": 164,
     "metadata": {},
     "output_type": "execute_result"
    }
   ],
   "source": [
    "set2.symmetric_difference(set1) # 2 sine aynı anda bakmak için"
   ]
  },
  {
   "cell_type": "code",
   "execution_count": 165,
   "metadata": {
    "colab": {
     "base_uri": "https://localhost:8080/",
     "height": 0
    },
    "id": "RO5KlGPVeS9V",
    "outputId": "ba32f023-7f56-4dd4-82fb-5decbd9e3f9c"
   },
   "outputs": [
    {
     "data": {
      "text/plain": [
       "{5}"
      ]
     },
     "execution_count": 165,
     "metadata": {},
     "output_type": "execute_result"
    }
   ],
   "source": [
    "set1-set2"
   ]
  },
  {
   "cell_type": "code",
   "execution_count": 166,
   "metadata": {
    "colab": {
     "base_uri": "https://localhost:8080/",
     "height": 0
    },
    "id": "CleztAhCea8E",
    "outputId": "501b8afa-ea61-425e-87dd-caf510fbb320"
   },
   "outputs": [
    {
     "data": {
      "text/plain": [
       "{2}"
      ]
     },
     "execution_count": 166,
     "metadata": {},
     "output_type": "execute_result"
    }
   ],
   "source": [
    "set2-set1"
   ]
  },
  {
   "cell_type": "markdown",
   "metadata": {
    "id": "2sqEIgBeegvk"
   },
   "source": [
    "SETLERDE KESİŞİM VE BİRLEŞİM: intersection & union"
   ]
  },
  {
   "cell_type": "code",
   "execution_count": 167,
   "metadata": {
    "id": "PV5eKsAGep6z"
   },
   "outputs": [],
   "source": [
    "set1 = set([1,3,5])\n",
    "set2 = set([1,2,3])"
   ]
  },
  {
   "cell_type": "code",
   "execution_count": 168,
   "metadata": {
    "colab": {
     "base_uri": "https://localhost:8080/",
     "height": 0
    },
    "id": "DW1LX7aie27Z",
    "outputId": "73876b74-f342-4f42-fe89-f29026765050"
   },
   "outputs": [
    {
     "data": {
      "text/plain": [
       "{1, 3}"
      ]
     },
     "execution_count": 168,
     "metadata": {},
     "output_type": "execute_result"
    }
   ],
   "source": [
    "set1.intersection(set2) # 2 kümenin kesişimi"
   ]
  },
  {
   "cell_type": "code",
   "execution_count": 169,
   "metadata": {
    "colab": {
     "base_uri": "https://localhost:8080/",
     "height": 0
    },
    "id": "wG_06wXTe-WL",
    "outputId": "98217be2-5436-4d73-9dcf-94aaa4f9e9f6"
   },
   "outputs": [
    {
     "data": {
      "text/plain": [
       "{1, 3}"
      ]
     },
     "execution_count": 169,
     "metadata": {},
     "output_type": "execute_result"
    }
   ],
   "source": [
    "set2.intersection(set1)"
   ]
  },
  {
   "cell_type": "code",
   "execution_count": 170,
   "metadata": {
    "colab": {
     "base_uri": "https://localhost:8080/",
     "height": 0
    },
    "id": "p-0a0jSzfJjY",
    "outputId": "21ab602e-ded5-4ab1-d236-ebf6088048c5"
   },
   "outputs": [
    {
     "data": {
      "text/plain": [
       "{1, 3}"
      ]
     },
     "execution_count": 170,
     "metadata": {},
     "output_type": "execute_result"
    }
   ],
   "source": [
    "set1 & set2 # kesişim eleamnını böylede alır."
   ]
  },
  {
   "cell_type": "code",
   "execution_count": 171,
   "metadata": {
    "colab": {
     "base_uri": "https://localhost:8080/",
     "height": 0
    },
    "id": "svgl2ry-fP7u",
    "outputId": "597b93c6-b2c7-4e2c-a211-5e9cb6a1ae99"
   },
   "outputs": [
    {
     "data": {
      "text/plain": [
       "{1, 3}"
      ]
     },
     "execution_count": 171,
     "metadata": {},
     "output_type": "execute_result"
    }
   ],
   "source": [
    "kesisim = set1 & set2\n",
    "kesisim    # burda saklıyıp tuarız.Z"
   ]
  },
  {
   "cell_type": "code",
   "execution_count": 172,
   "metadata": {
    "colab": {
     "base_uri": "https://localhost:8080/",
     "height": 0
    },
    "id": "R4lKBE2qh_HE",
    "outputId": "99ffb01d-42fc-486b-eb1c-7b876a17036a"
   },
   "outputs": [
    {
     "data": {
      "text/plain": [
       "{1, 2, 3, 5}"
      ]
     },
     "execution_count": 172,
     "metadata": {},
     "output_type": "execute_result"
    }
   ],
   "source": [
    "birleşim = set1.union(set2) # kümelerin birleşimini alır.\n",
    "birleşim"
   ]
  },
  {
   "cell_type": "code",
   "execution_count": 173,
   "metadata": {
    "colab": {
     "base_uri": "https://localhost:8080/",
     "height": 0
    },
    "id": "QQffM04gmfPl",
    "outputId": "fb94f4b2-b2db-404f-b347-d58c4b73f457"
   },
   "outputs": [
    {
     "data": {
      "text/plain": [
       "{1, 3}"
      ]
     },
     "execution_count": 173,
     "metadata": {},
     "output_type": "execute_result"
    }
   ],
   "source": [
    "set1.intersection_update(set2)\n",
    "set1     # kesisimde yer aaln ifadeler  set1 in olmuştur artık"
   ]
  },
  {
   "cell_type": "markdown",
   "metadata": {
    "id": "TX-qlYVXoLpz"
   },
   "source": [
    "SETLERDE SORGU İŞLEMLERİ"
   ]
  },
  {
   "cell_type": "code",
   "execution_count": 174,
   "metadata": {
    "id": "L5ymVxUtoOpA"
   },
   "outputs": [],
   "source": [
    "set1 = set([7,8,9])\n",
    "set2 = set([5,6,7,8,9,10])"
   ]
  },
  {
   "cell_type": "code",
   "execution_count": 175,
   "metadata": {
    "id": "u1nq6xZLoaKJ"
   },
   "outputs": [],
   "source": [
    "# iki kümenin kesisiminin boş olup olmadığının sorgulanması"
   ]
  },
  {
   "cell_type": "code",
   "execution_count": 176,
   "metadata": {
    "colab": {
     "base_uri": "https://localhost:8080/",
     "height": 0
    },
    "id": "NXYWntr7ohUq",
    "outputId": "bfb8b0df-ad8a-4102-8772-467923d3c5ab"
   },
   "outputs": [
    {
     "data": {
      "text/plain": [
       "False"
      ]
     },
     "execution_count": 176,
     "metadata": {},
     "output_type": "execute_result"
    }
   ],
   "source": [
    "set1.isdisjoint(set2) # boş değil"
   ]
  },
  {
   "cell_type": "code",
   "execution_count": 177,
   "metadata": {
    "id": "LHxKMDg3oq8q"
   },
   "outputs": [],
   "source": [
    "# bir kümenin bütün elemanllarının başka bir küme içerisinde yer alıp almadığı"
   ]
  },
  {
   "cell_type": "code",
   "execution_count": 178,
   "metadata": {
    "colab": {
     "base_uri": "https://localhost:8080/",
     "height": 0
    },
    "id": "UpAhKTwioySt",
    "outputId": "62e4d90c-70f2-49ac-c936-e5f852bc1aba"
   },
   "outputs": [
    {
     "data": {
      "text/plain": [
       "True"
      ]
     },
     "execution_count": 178,
     "metadata": {},
     "output_type": "execute_result"
    }
   ],
   "source": [
    "set1.issubset(set2) # set1 set2 nin alt kümesi midir"
   ]
  },
  {
   "cell_type": "code",
   "execution_count": 179,
   "metadata": {
    "id": "pxh7QpGmo9nF"
   },
   "outputs": [],
   "source": [
    "# bir kümenin bir diğer kumeyi kapsayıp kapsamadığını sorma"
   ]
  },
  {
   "cell_type": "code",
   "execution_count": 180,
   "metadata": {
    "colab": {
     "base_uri": "https://localhost:8080/",
     "height": 0
    },
    "id": "up5K2Uy_pJhy",
    "outputId": "39791ec6-036f-4ff2-a273-196420612847"
   },
   "outputs": [
    {
     "data": {
      "text/plain": [
       "True"
      ]
     },
     "execution_count": 180,
     "metadata": {},
     "output_type": "execute_result"
    }
   ],
   "source": [
    "set2.issuperset(set1) # set2 set1 i kapsıyor mu"
   ]
  },
  {
   "attachments": {
    "f854e632-0e91-474f-979c-634c53c6314f.PNG": {
     "image/png": "[encoded data removed]"
    }
   },
   "cell_type": "markdown",
   "metadata": {},
   "source": [
    "![Ekran Alıntısızdva.PNG](attachment:f854e632-0e91-474f-979c-634c53c6314f.PNG)"
   ]
  },
  {
   "cell_type": "markdown",
   "metadata": {
    "id": "kh7pCBIJvNqW"
   },
   "source": [
    "Fonksiyonlara Giriş ve Fonksiyon Okuryazarlığı"
   ]
  },
  {
   "cell_type": "code",
   "execution_count": 181,
   "metadata": {
    "id": "_RnV5HxRvU5B"
   },
   "outputs": [
    {
     "name": "stdout",
     "output_type": "stream",
     "text": [
      "Object `print # dokümanyasyonaları verir` not found.\n"
     ]
    }
   ],
   "source": [
    "?print # dokümanyasyonaları verir"
   ]
  },
  {
   "cell_type": "code",
   "execution_count": 182,
   "metadata": {
    "colab": {
     "base_uri": "https://localhost:8080/",
     "height": 0
    },
    "id": "7bJO5NJ2wK9K",
    "outputId": "634947ac-03e3-4615-8a6f-db0ff64b397c"
   },
   "outputs": [
    {
     "data": {
      "text/plain": [
       "1"
      ]
     },
     "execution_count": 182,
     "metadata": {},
     "output_type": "execute_result"
    }
   ],
   "source": [
    "len(\"a\")"
   ]
  },
  {
   "cell_type": "markdown",
   "metadata": {
    "id": "NJU8t5bvw4y5"
   },
   "source": [
    "FONKSİYON NASIL YAZILIR?"
   ]
  },
  {
   "cell_type": "code",
   "execution_count": 183,
   "metadata": {
    "colab": {
     "base_uri": "https://localhost:8080/",
     "height": 0
    },
    "id": "F22Q4qIFw7rI",
    "outputId": "0c7a5a95-5dd2-41bc-eb43-858814a342fd"
   },
   "outputs": [
    {
     "name": "stdout",
     "output_type": "stream",
     "text": [
      "9\n"
     ]
    }
   ],
   "source": [
    "def kare_al(x):\n",
    "  print(x**2)\n",
    "kare_al(3)"
   ]
  },
  {
   "cell_type": "markdown",
   "metadata": {
    "id": "aHqzpISnyyj6"
   },
   "source": [
    "BİLGİ NOTUYLA ÇIKTI AL"
   ]
  },
  {
   "cell_type": "code",
   "execution_count": 184,
   "metadata": {
    "colab": {
     "base_uri": "https://localhost:8080/",
     "height": 0
    },
    "id": "bDxK5FRqy4aU",
    "outputId": "35bb0e75-5a02-41cb-b919-777321063161"
   },
   "outputs": [
    {
     "name": "stdout",
     "output_type": "stream",
     "text": [
      "Girilen Sayinin Karesi:9\n"
     ]
    }
   ],
   "source": [
    "def kare_al(x):\n",
    "  print(\"Girilen Sayinin Karesi:\" + str(x**2))\n",
    "kare_al(3)"
   ]
  },
  {
   "cell_type": "code",
   "execution_count": 185,
   "metadata": {
    "colab": {
     "base_uri": "https://localhost:8080/",
     "height": 0
    },
    "id": "d_C_LxA8y4QK",
    "outputId": "db57c1c9-422e-4f0a-f4e7-4a1629ebebfd"
   },
   "outputs": [
    {
     "name": "stdout",
     "output_type": "stream",
     "text": [
      "Girilen Sayinin Karesi:9\n",
      "Girilen Sayi:3, Karesi:9\n"
     ]
    }
   ],
   "source": [
    "def kare_al(x):\n",
    "  print(\"Girilen Sayinin Karesi:\" + str(x**2))\n",
    "  print(\"Girilen Sayi:\" + str(x) + \", Karesi:\"  + str(x**2))\n",
    "kare_al(3)"
   ]
  },
  {
   "cell_type": "markdown",
   "metadata": {
    "id": "iwM4iux50QiA"
   },
   "source": [
    "İKİ ARGÜMANLI FONKSİYON TANIMLAMAK"
   ]
  },
  {
   "cell_type": "code",
   "execution_count": 186,
   "metadata": {
    "colab": {
     "base_uri": "https://localhost:8080/",
     "height": 0
    },
    "id": "RJf6DTx20W3-",
    "outputId": "37a9572a-60a3-4768-a728-f938d6e24ddd"
   },
   "outputs": [
    {
     "name": "stdout",
     "output_type": "stream",
     "text": [
      "15\n"
     ]
    }
   ],
   "source": [
    "def carpma_yap(x, y):\n",
    "  print(x*y)\n",
    "carpma_yap( 3,5)"
   ]
  },
  {
   "cell_type": "markdown",
   "metadata": {
    "id": "wmm4tYX11JTG"
   },
   "source": [
    "ÖN TANIMLI ARGÜMANLAR"
   ]
  },
  {
   "cell_type": "code",
   "execution_count": 187,
   "metadata": {
    "colab": {
     "base_uri": "https://localhost:8080/",
     "height": 0
    },
    "id": "uZAxrE1K1NhH",
    "outputId": "ce7b8803-94d8-45c5-a066-f4b2322080dd"
   },
   "outputs": [
    {
     "name": "stdout",
     "output_type": "stream",
     "text": [
      "12\n"
     ]
    }
   ],
   "source": [
    "def carpma_yap(x, y=1):\n",
    "  print(x*y)\n",
    "\n",
    "carpma_yap(3,4)"
   ]
  },
  {
   "cell_type": "code",
   "execution_count": 188,
   "metadata": {
    "id": "vwnCuWbj17se"
   },
   "outputs": [],
   "source": [
    "# Argümanların sıralanması"
   ]
  },
  {
   "cell_type": "code",
   "execution_count": 189,
   "metadata": {
    "colab": {
     "base_uri": "https://localhost:8080/",
     "height": 0
    },
    "id": "S_GmGPv61_yL",
    "outputId": "800c6c47-aaff-4a3f-fb3f-9a38b1883d95"
   },
   "outputs": [
    {
     "name": "stdout",
     "output_type": "stream",
     "text": [
      "6\n"
     ]
    }
   ],
   "source": [
    "def carpma_yap(x, y=1):\n",
    "  print(x*y)\n",
    "\n",
    "carpma_yap(y =2,x=3)"
   ]
  },
  {
   "cell_type": "code",
   "execution_count": 190,
   "metadata": {
    "colab": {
     "base_uri": "https://localhost:8080/",
     "height": 0
    },
    "id": "4YlvsJQS2Ua9",
    "outputId": "c76eea4b-87b1-4b46-aa14-86625277b280"
   },
   "outputs": [
    {
     "name": "stdout",
     "output_type": "stream",
     "text": [
      "6\n"
     ]
    }
   ],
   "source": [
    "carpma_yap(2, 3)"
   ]
  },
  {
   "cell_type": "markdown",
   "metadata": {
    "id": "ytPG-lKe2h7I"
   },
   "source": [
    "NE ZAMAN FONKSİYON YAZILIR?"
   ]
  },
  {
   "cell_type": "code",
   "execution_count": 191,
   "metadata": {
    "id": "yfp4-66o2hmG"
   },
   "outputs": [],
   "source": [
    "# isi, nem, sarj"
   ]
  },
  {
   "cell_type": "code",
   "execution_count": 192,
   "metadata": {
    "colab": {
     "base_uri": "https://localhost:8080/",
     "height": 0
    },
    "id": "4z48yRmo24HQ",
    "outputId": "118d114f-cb20-4240-a91a-82b3d1ab10be"
   },
   "outputs": [
    {
     "data": {
      "text/plain": [
       "0.7222222222222222"
      ]
     },
     "execution_count": 192,
     "metadata": {},
     "output_type": "execute_result"
    }
   ],
   "source": [
    "(40+25)/90"
   ]
  },
  {
   "cell_type": "code",
   "execution_count": 193,
   "metadata": {
    "colab": {
     "base_uri": "https://localhost:8080/",
     "height": 0
    },
    "id": "XjdGZrvQ3Vsy",
    "outputId": "24af0ba4-142c-4848-a117-7d2fb15dafb2"
   },
   "outputs": [
    {
     "name": "stdout",
     "output_type": "stream",
     "text": [
      "0.9285714285714286\n"
     ]
    }
   ],
   "source": [
    "def direk_hesap(isi, nem, sarj):\n",
    "  print((isi + nem)/sarj)\n",
    "\n",
    "direk_hesap( 25, 40,70)"
   ]
  },
  {
   "cell_type": "markdown",
   "metadata": {
    "id": "Zj1dgMUE4Er4"
   },
   "source": [
    "FONKSİYON ÇIKTILARINI GİRDİ OLARAK KULLANMAK: return"
   ]
  },
  {
   "cell_type": "code",
   "execution_count": 194,
   "metadata": {
    "colab": {
     "base_uri": "https://localhost:8080/",
     "height": 0
    },
    "id": "3lENm0ef327t",
    "outputId": "bb68f7af-de26-4d52-8c06-c884478fe27c"
   },
   "outputs": [
    {
     "name": "stdout",
     "output_type": "stream",
     "text": [
      "0.9285714285714286\n"
     ]
    }
   ],
   "source": [
    "def direk_hesap(isi, nem, sarj):\n",
    "  print((isi + nem)/sarj)\n",
    "\n",
    "cikti=direk_hesap(25,40,70)"
   ]
  },
  {
   "cell_type": "code",
   "execution_count": 195,
   "metadata": {
    "colab": {
     "base_uri": "https://localhost:8080/",
     "height": 0
    },
    "id": "8q_9FAB64VXz",
    "outputId": "9634c5d1-da41-4e23-e724-e51db536bc68"
   },
   "outputs": [
    {
     "name": "stdout",
     "output_type": "stream",
     "text": [
      "None\n"
     ]
    }
   ],
   "source": [
    "print(cikti)"
   ]
  },
  {
   "cell_type": "code",
   "execution_count": 196,
   "metadata": {
    "colab": {
     "base_uri": "https://localhost:8080/",
     "height": 0
    },
    "id": "YVxKJ4v9436D",
    "outputId": "9ff894dc-06d5-41ac-cecc-34ca3abd2d1b"
   },
   "outputs": [
    {
     "data": {
      "text/plain": [
       "8.357142857142858"
      ]
     },
     "execution_count": 196,
     "metadata": {},
     "output_type": "execute_result"
    }
   ],
   "source": [
    "def direk_hesap(isi, nem, sarj):\n",
    "  return (isi + nem)/sarj\n",
    "\n",
    "direk_hesap(25,40,70)*9"
   ]
  },
  {
   "cell_type": "code",
   "execution_count": 197,
   "metadata": {
    "colab": {
     "base_uri": "https://localhost:8080/",
     "height": 0
    },
    "id": "lioMLCTV5JcL",
    "outputId": "700f13a8-6972-4479-a094-7c4eb0a96433"
   },
   "outputs": [
    {
     "data": {
      "text/plain": [
       "0.9285714285714286"
      ]
     },
     "execution_count": 197,
     "metadata": {},
     "output_type": "execute_result"
    }
   ],
   "source": [
    "cikti=direk_hesap(25,40,70)\n",
    "cikti"
   ]
  },
  {
   "cell_type": "code",
   "execution_count": 198,
   "metadata": {},
   "outputs": [
    {
     "name": "stdout",
     "output_type": "stream",
     "text": [
      "0.9285714285714286\n"
     ]
    }
   ],
   "source": [
    "print(cikti)"
   ]
  },
  {
   "cell_type": "markdown",
   "metadata": {
    "id": "bzqHL05n5j9-"
   },
   "source": [
    "LOCAL VE GLOBAL DEĞİŞKENLER"
   ]
  },
  {
   "cell_type": "code",
   "execution_count": 199,
   "metadata": {
    "id": "4Znmhk6Z5nb_"
   },
   "outputs": [],
   "source": [
    "x = 10\n",
    "y = 20"
   ]
  },
  {
   "cell_type": "code",
   "execution_count": 200,
   "metadata": {
    "colab": {
     "base_uri": "https://localhost:8080/",
     "height": 0
    },
    "id": "B__2-qUX51pN",
    "outputId": "3fde2b52-b60b-4d11-dbed-9d4bad39ff88"
   },
   "outputs": [
    {
     "data": {
      "text/plain": [
       "6"
      ]
     },
     "execution_count": 200,
     "metadata": {},
     "output_type": "execute_result"
    }
   ],
   "source": [
    "def carpma_yap(x,y):\n",
    "  return x*y       # buradaki x ve y değişkenleri local ifadelerdir. buradaki fonk.nun etki alanındadır.\n",
    "\n",
    "carpma_yap(2,3) "
   ]
  },
  {
   "cell_type": "code",
   "execution_count": 201,
   "metadata": {
    "id": "B6kh9n3z6yf_"
   },
   "outputs": [],
   "source": [
    "# genel çalışma alanımızddaki değişkenlerde global değişkenlerdir."
   ]
  },
  {
   "cell_type": "markdown",
   "metadata": {
    "id": "OySIG9-v7CkN"
   },
   "source": [
    "LOCAL ETKİ ALANINDAN GLOBAL ETKİ ALANINI DEĞİŞTİRME"
   ]
  },
  {
   "cell_type": "code",
   "execution_count": 202,
   "metadata": {
    "colab": {
     "base_uri": "https://localhost:8080/",
     "height": 0
    },
    "id": "htInLvs066UL",
    "outputId": "8469712e-fa80-494b-9153-143d51af7c3b"
   },
   "outputs": [
    {
     "name": "stdout",
     "output_type": "stream",
     "text": [
      "1 ifadesi eklendi\n"
     ]
    }
   ],
   "source": [
    "x = []\n",
    "def eleman_ekle(y): \n",
    "  x.append(y)\n",
    "  print(str(y) + \" ifadesi eklendi\" )\n",
    "eleman_ekle(1)"
   ]
  },
  {
   "cell_type": "code",
   "execution_count": 203,
   "metadata": {
    "colab": {
     "base_uri": "https://localhost:8080/",
     "height": 0
    },
    "id": "FcnggoIb8nCs",
    "outputId": "547abe58-847d-407d-edb3-a8af841e5d6a"
   },
   "outputs": [
    {
     "name": "stdout",
     "output_type": "stream",
     "text": [
      "veli ifadesi eklendi\n"
     ]
    }
   ],
   "source": [
    "eleman_ekle(\"veli\")"
   ]
  },
  {
   "cell_type": "code",
   "execution_count": 204,
   "metadata": {
    "colab": {
     "base_uri": "https://localhost:8080/",
     "height": 0
    },
    "id": "FsAYVJzL8suV",
    "outputId": "c558db3b-3c60-449f-cbfd-100f0d2d97a2"
   },
   "outputs": [
    {
     "data": {
      "text/plain": [
       "[1, 'veli']"
      ]
     },
     "execution_count": 204,
     "metadata": {},
     "output_type": "execute_result"
    }
   ],
   "source": [
    "x"
   ]
  },
  {
   "cell_type": "markdown",
   "metadata": {
    "id": "fkhfJmo29MYA"
   },
   "source": [
    "TRUE FALSE SORGULAMALARI"
   ]
  },
  {
   "cell_type": "code",
   "execution_count": 205,
   "metadata": {
    "id": "ym1Qa2pN9RcW"
   },
   "outputs": [],
   "source": [
    "sinir = 5000"
   ]
  },
  {
   "cell_type": "code",
   "execution_count": 206,
   "metadata": {
    "colab": {
     "base_uri": "https://localhost:8080/",
     "height": 0
    },
    "id": "gFiaNQ1N9vRP",
    "outputId": "e57bf01c-9429-4249-8a9a-a27f035916c0"
   },
   "outputs": [
    {
     "data": {
      "text/plain": [
       "False"
      ]
     },
     "execution_count": 206,
     "metadata": {},
     "output_type": "execute_result"
    }
   ],
   "source": [
    "sinir == 4000 # eşit mi"
   ]
  },
  {
   "cell_type": "code",
   "execution_count": 207,
   "metadata": {
    "colab": {
     "base_uri": "https://localhost:8080/",
     "height": 0
    },
    "id": "oWEoUMr_9zvM",
    "outputId": "d7fd9202-7101-4444-b2a7-5717d77e3f7e"
   },
   "outputs": [
    {
     "data": {
      "text/plain": [
       "True"
      ]
     },
     "execution_count": 207,
     "metadata": {},
     "output_type": "execute_result"
    }
   ],
   "source": [
    "sinir == 5000 # eşit"
   ]
  },
  {
   "cell_type": "markdown",
   "metadata": {
    "id": "Ps10X4k-96BZ"
   },
   "source": [
    "İF YAPISI"
   ]
  },
  {
   "cell_type": "code",
   "execution_count": 208,
   "metadata": {
    "id": "xHgbjSkQ-C-0"
   },
   "outputs": [],
   "source": [
    "sinir = 50000\n",
    "gelir = 60000"
   ]
  },
  {
   "cell_type": "code",
   "execution_count": 209,
   "metadata": {
    "colab": {
     "base_uri": "https://localhost:8080/",
     "height": 0
    },
    "id": "Lb9jVzGF-Wd6",
    "outputId": "dc1649ba-89c2-4976-aa55-525529862110"
   },
   "outputs": [
    {
     "name": "stdout",
     "output_type": "stream",
     "text": [
      "Gelir sinirdan küçük\n",
      "120000\n"
     ]
    }
   ],
   "source": [
    "if gelir > sinir:\n",
    "  print(\"Gelir sinirdan küçük\")\n",
    "  print(gelir*2)"
   ]
  },
  {
   "cell_type": "markdown",
   "metadata": {
    "id": "DORXtgm-_ZZD"
   },
   "source": [
    "ELSE"
   ]
  },
  {
   "cell_type": "code",
   "execution_count": 210,
   "metadata": {
    "colab": {
     "base_uri": "https://localhost:8080/",
     "height": 0
    },
    "id": "rFQWwhYH_YdH",
    "outputId": "06d64d1a-1aba-4f24-a98f-48097cb52b4f"
   },
   "outputs": [
    {
     "name": "stdout",
     "output_type": "stream",
     "text": [
      "Gelir sinirdan kucuk\n"
     ]
    }
   ],
   "source": [
    "sinir = 50000\n",
    "gelir = 35000\n",
    "\n",
    "if gelir > sinir:\n",
    "  print(\"Gelir sinirdan buyuk\")\n",
    "else:\n",
    "  print(\"Gelir sinirdan kucuk\")"
   ]
  },
  {
   "cell_type": "markdown",
   "metadata": {
    "id": "rmOnNGa0Aqe4"
   },
   "source": [
    "ELİF"
   ]
  },
  {
   "cell_type": "code",
   "execution_count": 211,
   "metadata": {
    "colab": {
     "base_uri": "https://localhost:8080/",
     "height": 0
    },
    "id": "qs2gH5yzBXx4",
    "outputId": "38ba8624-d70a-4e4d-ddf0-d0029d642c4c"
   },
   "outputs": [
    {
     "name": "stdout",
     "output_type": "stream",
     "text": [
      "Tebrikler, hediye kazandiniz.\n"
     ]
    }
   ],
   "source": [
    "sinir = 50000\n",
    "gelir1 = 60000\n",
    "gelir2 = 50000\n",
    "gelir3 = 35000\n",
    "    \n",
    "if gelir1 > sinir:\n",
    "    print(\"Tebrikler, hediye kazandiniz.\")\n",
    "elif gelir1 < sinir:\n",
    "    print(\"Uyari!\")\n",
    "else:\n",
    "    print(\"Takibe devam\")  \n"
   ]
  },
  {
   "cell_type": "code",
   "execution_count": 212,
   "metadata": {
    "colab": {
     "base_uri": "https://localhost:8080/",
     "height": 0
    },
    "id": "lfGMqra9CThw",
    "outputId": "68a72b70-f88d-46ee-e97b-508e472d3712"
   },
   "outputs": [
    {
     "name": "stdout",
     "output_type": "stream",
     "text": [
      "Uyari!\n"
     ]
    }
   ],
   "source": [
    "if gelir3 > sinir:\n",
    "    print(\"Tebrikler, hediye kazandiniz.\")\n",
    "elif gelir3 < sinir:\n",
    "    print(\"Uyari!\")\n",
    "else:\n",
    "    print(\"Takibe devam\")  "
   ]
  },
  {
   "cell_type": "code",
   "execution_count": 213,
   "metadata": {
    "colab": {
     "base_uri": "https://localhost:8080/",
     "height": 0
    },
    "id": "o3fLAuG0Cilf",
    "outputId": "26dc0c0a-6901-4dab-ad6e-ca8cfebce17a"
   },
   "outputs": [
    {
     "name": "stdout",
     "output_type": "stream",
     "text": [
      "Takibe devam\n"
     ]
    }
   ],
   "source": [
    "if gelir2 > sinir:\n",
    "    print(\"Tebrikler, hediye kazandiniz.\")\n",
    "elif gelir2 < sinir:\n",
    "    print(\"Uyari!\")\n",
    "else:\n",
    "    print(\"Takibe devam\")  "
   ]
  },
  {
   "cell_type": "markdown",
   "metadata": {
    "id": "X24dTLp1Cnso"
   },
   "source": [
    "UYGULAMA: if ve input ile kullanıcı etkileşimli program"
   ]
  },
  {
   "cell_type": "code",
   "execution_count": null,
   "metadata": {
    "id": "pKR2OGNkC0JL"
   },
   "outputs": [],
   "source": [
    "# mini uygulama"
   ]
  },
  {
   "cell_type": "code",
   "execution_count": null,
   "metadata": {
    "colab": {
     "base_uri": "https://localhost:8080/",
     "height": 0
    },
    "id": "YO0mamcODAGp",
    "outputId": "7d1f48da-70f0-4f0d-bc30-7bd049c9b777"
   },
   "outputs": [],
   "source": [
    "sinir = 50000\n",
    "magaza_adi = input(\"Magaza Adi Nedir? \")\n",
    "gelir = int(input(\"Gelirinizi Giriniz: \"))\n",
    "\n",
    "if gelir > sinir:\n",
    "    print(\"Tebrikler: \" + magaza_adi + \" promosyon kazandiniz!\")\n",
    "elif gelir < sinir:\n",
    "    print(\"Uyari! Cok dusuk gelir:\" + str(gelir))\n",
    "else:\n",
    "    print(\"Takibe devam\")"
   ]
  },
  {
   "cell_type": "markdown",
   "metadata": {
    "id": "-lg2y3GlFR-H"
   },
   "source": [
    "FOR DÖNGÜSÜ"
   ]
  },
  {
   "cell_type": "code",
   "execution_count": null,
   "metadata": {
    "colab": {
     "base_uri": "https://localhost:8080/",
     "height": 0
    },
    "id": "HYtVpsy4FVJh",
    "outputId": "f3a06c9b-fc04-4346-cdd9-f55352c1fe69"
   },
   "outputs": [],
   "source": [
    "ogrenci = [\"ali\",\"veli\",\"isik\",\"berk\"]\n",
    "\n",
    "for i in ogrenci:\n",
    "    print(i)"
   ]
  },
  {
   "cell_type": "code",
   "execution_count": null,
   "metadata": {
    "colab": {
     "base_uri": "https://localhost:8080/",
     "height": 0
    },
    "id": "9RGuLOINFzyy",
    "outputId": "d5b964df-a693-41fb-c2b7-522c4c6b12ba"
   },
   "outputs": [],
   "source": [
    "maaslar = [1000,2000,3000,4000,5000]\n",
    "\n",
    "for maas in maaslar:\n",
    "    print(maas)"
   ]
  },
  {
   "cell_type": "markdown",
   "metadata": {
    "id": "Plq4-IE8Hr69"
   },
   "source": [
    "DÖNGÜ VE FONKSİYONLARIN BİRLİKTE KULLANIMI"
   ]
  },
  {
   "cell_type": "code",
   "execution_count": null,
   "metadata": {
    "colab": {
     "base_uri": "https://localhost:8080/",
     "height": 0
    },
    "id": "mH2QkvbgIcpU",
    "outputId": "e398de85-0d23-41d0-ae1d-263d99de155f"
   },
   "outputs": [],
   "source": [
    "maaslar = [1000,2000,3000,4000,5000]\n",
    "\n",
    "for i in maaslar:\n",
    "    print(i)"
   ]
  },
  {
   "cell_type": "markdown",
   "metadata": {
    "id": "QYDJ-n5xIR8S"
   },
   "source": [
    "maaslara yuzde 20 zam yapilacak gerekli kodlari"
   ]
  },
  {
   "cell_type": "code",
   "execution_count": null,
   "metadata": {
    "colab": {
     "base_uri": "https://localhost:8080/",
     "height": 0
    },
    "id": "eENPDWA7IBg4",
    "outputId": "df7b1cb9-0bd6-403a-92b2-9349307f68f9"
   },
   "outputs": [],
   "source": [
    "1000*20/100  + 1000   \n",
    "\n",
    "maaslar[0]*20/100 + maaslar[0]\n",
    "maaslar[1]*20/100 + maaslar[1]\n",
    "maaslar[2]*20/100 + maaslar[2]    \n",
    "      \n",
    "# dongu yailacak   \n",
    "# fonksiyon yazmak "
   ]
  },
  {
   "cell_type": "code",
   "execution_count": null,
   "metadata": {
    "colab": {
     "base_uri": "https://localhost:8080/",
     "height": 0
    },
    "id": "B50K0bODILNA",
    "outputId": "6e22f30b-1193-46f4-a72d-4ccb69ef5ca3"
   },
   "outputs": [],
   "source": [
    "def yeni_maas(x):\n",
    "    print(x*20/100 + x)\n",
    "    \n",
    "for i in maaslar:\n",
    "    yeni_maas(i)\n",
    "    "
   ]
  },
  {
   "cell_type": "markdown",
   "metadata": {
    "id": "bfuNNZICKIq9"
   },
   "source": [
    "if , for ve fonksiyonları birlikte kullanma"
   ]
  },
  {
   "cell_type": "code",
   "execution_count": null,
   "metadata": {
    "id": "8MJ-DWO-KG6B"
   },
   "outputs": [],
   "source": [
    "maaslar = [1000,2000,3000,4000,5000]\n",
    "\n",
    "def maas_ust(x):\n",
    "    print(x*10/100 + x)\n",
    "\n",
    "def maas_alt(x):\n",
    "    print(x*20/100 + x)\n",
    "\n",
    "for i in maaslar:\n",
    "    if i >= 3000:\n",
    "        maas_ust(i)\n",
    "    else:\n",
    "        maas_alt(i)"
   ]
  },
  {
   "cell_type": "markdown",
   "metadata": {
    "id": "NAm8xHSBN2qg"
   },
   "source": [
    "BREAK & CONTİNUE"
   ]
  },
  {
   "cell_type": "code",
   "execution_count": null,
   "metadata": {
    "colab": {
     "base_uri": "https://localhost:8080/",
     "height": 0
    },
    "id": "IBZl17XzN8Yg",
    "outputId": "2958b9b4-30ec-4f36-ecba-2f06862640c0"
   },
   "outputs": [],
   "source": [
    "maaslar = [8000,5000,2000,1000,3000, 7000, 1000]\n",
    "\n",
    "dir(maaslar)   # metotlar geldi\n",
    "\n",
    "maaslar.sort()\n",
    "maaslar"
   ]
  },
  {
   "cell_type": "code",
   "execution_count": null,
   "metadata": {
    "colab": {
     "base_uri": "https://localhost:8080/",
     "height": 0
    },
    "id": "9WHDkiBPPC_Y",
    "outputId": "dd240573-e32f-4ef4-e5af-2c73b8220194"
   },
   "outputs": [],
   "source": [
    "for i in maaslar:\n",
    "    if i == 3000:\n",
    "        print(\"kesildi\")\n",
    "        break\n",
    "    print(i)"
   ]
  },
  {
   "cell_type": "code",
   "execution_count": null,
   "metadata": {
    "colab": {
     "base_uri": "https://localhost:8080/",
     "height": 0
    },
    "id": "adO3CqWyP4Wc",
    "outputId": "e4e984e8-74a6-4555-d81f-298e19743ee9"
   },
   "outputs": [],
   "source": [
    "for i in maaslar:\n",
    "    if i == 3000:\n",
    "        continue\n",
    "    print(i)"
   ]
  },
  {
   "cell_type": "markdown",
   "metadata": {
    "id": "UPxVKHBaQRWs"
   },
   "source": [
    "WHİLE"
   ]
  },
  {
   "cell_type": "code",
   "execution_count": null,
   "metadata": {
    "colab": {
     "base_uri": "https://localhost:8080/",
     "height": 0
    },
    "id": "BEcv9Jc8QUjy",
    "outputId": "d914c84a-c70a-411e-8935-24a94fbe54d7"
   },
   "outputs": [],
   "source": [
    "sayi = 1\n",
    "\n",
    "while sayi < 9:\n",
    "    sayi += 1\n",
    "    print(sayi)"
   ]
  },
  {
   "cell_type": "code",
   "execution_count": null,
   "metadata": {
    "colab": {
     "base_uri": "https://localhost:8080/",
     "height": 0
    },
    "id": "ulj4Hp-ISXzX",
    "outputId": "627c97e2-86c7-4261-b4db-be3f25b050f1"
   },
   "outputs": [],
   "source": [
    "a = [1,2,3]\n",
    "b = []\n",
    "for i in a:\n",
    "    b.append(i**2)\n",
    "b"
   ]
  }
 ],
 "metadata": {
  "colab": {
   "name": "python_programlama.ipynb",
   "provenance": []
  },
  "kernelspec": {
   "display_name": "Python 3",
   "language": "python",
   "name": "python3"
  },
  "language_info": {
   "codemirror_mode": {
    "name": "ipython",
    "version": 3
   },
   "file_extension": ".py",
   "mimetype": "text/x-python",
   "name": "python",
   "nbconvert_exporter": "python",
   "pygments_lexer": "ipython3",
   "version": "3.8.5"
  }
 },
 "nbformat": 4,
 "nbformat_minor": 4
}
